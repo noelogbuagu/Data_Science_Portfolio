{
 "cells": [
  {
   "attachments": {},
   "cell_type": "markdown",
   "metadata": {},
   "source": [
    "# Predicting Bankruptcy in Poland"
   ]
  },
  {
   "cell_type": "code",
   "execution_count": 2,
   "metadata": {},
   "outputs": [],
   "source": [
    "import pandas as pd\n",
    "import seaborn as sns\n",
    "import matplotlib.pyplot as plt\n",
    "import json\n",
    "import gzip\n",
    "import pickle\n",
    "from sklearn.model_selection import GridSearchCV, cross_val_score, train_test_split\n",
    "from imblearn.over_sampling import RandomOverSampler\n",
    "from imblearn.under_sampling import RandomUnderSampler\n",
    "from sklearn.impute import SimpleImputer\n",
    "from sklearn.pipeline import make_pipeline\n",
    "from sklearn.tree import DecisionTreeClassifier\n",
    "from sklearn.ensemble import RandomForestClassifier\n",
    "from sklearn.ensemble import GradientBoostingClassifier\n",
    "from sklearn.metrics import (\n",
    "    ConfusionMatrixDisplay,\n",
    "    classification_report,\n",
    "    confusion_matrix,\n",
    ")\n"
   ]
  },
  {
   "attachments": {},
   "cell_type": "markdown",
   "metadata": {},
   "source": [
    "## Prepare Data"
   ]
  },
  {
   "attachments": {},
   "cell_type": "markdown",
   "metadata": {},
   "source": [
    "### Open\n"
   ]
  },
  {
   "cell_type": "code",
   "execution_count": 4,
   "metadata": {},
   "outputs": [
    {
     "name": "stdout",
     "output_type": "stream",
     "text": [
      "<class 'dict'>\n"
     ]
    }
   ],
   "source": [
    "# Open compressed file, load into dictionary\n",
    "with gzip.open(\"data/poland-bankruptcy-data-2009.json.gz\", \"r\") as f:\n",
    "    poland_data = json.load(f)\n",
    "    \n",
    "print(type(poland_data))"
   ]
  },
  {
   "attachments": {},
   "cell_type": "markdown",
   "metadata": {},
   "source": [
    "### Explore"
   ]
  },
  {
   "cell_type": "code",
   "execution_count": 5,
   "metadata": {},
   "outputs": [
    {
     "data": {
      "text/plain": [
       "dict_keys(['schema', 'data', 'metadata'])"
      ]
     },
     "execution_count": 5,
     "metadata": {},
     "output_type": "execute_result"
    }
   ],
   "source": [
    "# get keys of JSON file\n",
    "poland_data.keys()"
   ]
  },
  {
   "cell_type": "code",
   "execution_count": 6,
   "metadata": {},
   "outputs": [
    {
     "data": {
      "text/plain": [
       "{'title': 'Ensemble Boosted Trees with Synthetic Features Generation in Application to Bankruptcy Prediction',\n",
       " 'authors': 'Zieba, M., Tomczak, S. K., & Tomczak, J. M.',\n",
       " 'journal': 'Expert Systems with Applications',\n",
       " 'publicationYear': 2016,\n",
       " 'dataYear': 2009,\n",
       " 'articleLink': 'doi:10.1016/j.eswa.2016.04.001',\n",
       " 'datasetLink': 'https://archive.ics.uci.edu/ml/datasets/Polish+companies+bankruptcy+data'}"
      ]
     },
     "execution_count": 6,
     "metadata": {},
     "output_type": "execute_result"
    }
   ],
   "source": [
    "# get information about the data\n",
    "poland_data['metadata']"
   ]
  },
  {
   "cell_type": "code",
   "execution_count": 7,
   "metadata": {},
   "outputs": [
    {
     "data": {
      "text/plain": [
       "{'fields': [{'name': 'company_id', 'type': 'integer'},\n",
       "  {'name': 'feat_1', 'type': 'number'},\n",
       "  {'name': 'feat_2', 'type': 'number'},\n",
       "  {'name': 'feat_3', 'type': 'number'},\n",
       "  {'name': 'feat_4', 'type': 'number'},\n",
       "  {'name': 'feat_5', 'type': 'number'},\n",
       "  {'name': 'feat_6', 'type': 'number'},\n",
       "  {'name': 'feat_7', 'type': 'number'},\n",
       "  {'name': 'feat_8', 'type': 'number'},\n",
       "  {'name': 'feat_9', 'type': 'number'},\n",
       "  {'name': 'feat_10', 'type': 'number'},\n",
       "  {'name': 'feat_11', 'type': 'number'},\n",
       "  {'name': 'feat_12', 'type': 'number'},\n",
       "  {'name': 'feat_13', 'type': 'number'},\n",
       "  {'name': 'feat_14', 'type': 'number'},\n",
       "  {'name': 'feat_15', 'type': 'number'},\n",
       "  {'name': 'feat_16', 'type': 'number'},\n",
       "  {'name': 'feat_17', 'type': 'number'},\n",
       "  {'name': 'feat_18', 'type': 'number'},\n",
       "  {'name': 'feat_19', 'type': 'number'},\n",
       "  {'name': 'feat_20', 'type': 'number'},\n",
       "  {'name': 'feat_21', 'type': 'number'},\n",
       "  {'name': 'feat_22', 'type': 'number'},\n",
       "  {'name': 'feat_23', 'type': 'number'},\n",
       "  {'name': 'feat_24', 'type': 'number'},\n",
       "  {'name': 'feat_25', 'type': 'number'},\n",
       "  {'name': 'feat_26', 'type': 'number'},\n",
       "  {'name': 'feat_27', 'type': 'number'},\n",
       "  {'name': 'feat_28', 'type': 'number'},\n",
       "  {'name': 'feat_29', 'type': 'number'},\n",
       "  {'name': 'feat_30', 'type': 'number'},\n",
       "  {'name': 'feat_31', 'type': 'number'},\n",
       "  {'name': 'feat_32', 'type': 'number'},\n",
       "  {'name': 'feat_33', 'type': 'number'},\n",
       "  {'name': 'feat_34', 'type': 'number'},\n",
       "  {'name': 'feat_35', 'type': 'number'},\n",
       "  {'name': 'feat_36', 'type': 'number'},\n",
       "  {'name': 'feat_37', 'type': 'number'},\n",
       "  {'name': 'feat_38', 'type': 'number'},\n",
       "  {'name': 'feat_39', 'type': 'number'},\n",
       "  {'name': 'feat_40', 'type': 'number'},\n",
       "  {'name': 'feat_41', 'type': 'number'},\n",
       "  {'name': 'feat_42', 'type': 'number'},\n",
       "  {'name': 'feat_43', 'type': 'number'},\n",
       "  {'name': 'feat_44', 'type': 'number'},\n",
       "  {'name': 'feat_45', 'type': 'number'},\n",
       "  {'name': 'feat_46', 'type': 'number'},\n",
       "  {'name': 'feat_47', 'type': 'number'},\n",
       "  {'name': 'feat_48', 'type': 'number'},\n",
       "  {'name': 'feat_49', 'type': 'number'},\n",
       "  {'name': 'feat_50', 'type': 'number'},\n",
       "  {'name': 'feat_51', 'type': 'number'},\n",
       "  {'name': 'feat_52', 'type': 'number'},\n",
       "  {'name': 'feat_53', 'type': 'number'},\n",
       "  {'name': 'feat_54', 'type': 'number'},\n",
       "  {'name': 'feat_55', 'type': 'number'},\n",
       "  {'name': 'feat_56', 'type': 'number'},\n",
       "  {'name': 'feat_57', 'type': 'number'},\n",
       "  {'name': 'feat_58', 'type': 'number'},\n",
       "  {'name': 'feat_59', 'type': 'number'},\n",
       "  {'name': 'feat_60', 'type': 'number'},\n",
       "  {'name': 'feat_61', 'type': 'number'},\n",
       "  {'name': 'feat_62', 'type': 'number'},\n",
       "  {'name': 'feat_63', 'type': 'number'},\n",
       "  {'name': 'feat_64', 'type': 'number'},\n",
       "  {'name': 'bankrupt', 'type': 'boolean'}],\n",
       " 'primaryKey': ['company_id'],\n",
       " 'pandas_version': '0.20.0'}"
      ]
     },
     "execution_count": 7,
     "metadata": {},
     "output_type": "execute_result"
    }
   ],
   "source": [
    "# print schema \n",
    "poland_data['schema']"
   ]
  },
  {
   "cell_type": "code",
   "execution_count": 8,
   "metadata": {},
   "outputs": [
    {
     "data": {
      "text/plain": [
       "{'company_id': 1,\n",
       " 'feat_1': 0.17419,\n",
       " 'feat_2': 0.41299,\n",
       " 'feat_3': 0.14371,\n",
       " 'feat_4': 1.348,\n",
       " 'feat_5': -28.982,\n",
       " 'feat_6': 0.60383,\n",
       " 'feat_7': 0.21946,\n",
       " 'feat_8': 1.1225,\n",
       " 'feat_9': 1.1961,\n",
       " 'feat_10': 0.46359,\n",
       " 'feat_11': 0.21946,\n",
       " 'feat_12': 0.53139,\n",
       " 'feat_13': 0.14233,\n",
       " 'feat_14': 0.21946,\n",
       " 'feat_15': 592.24,\n",
       " 'feat_16': 0.6163,\n",
       " 'feat_17': 2.4213,\n",
       " 'feat_18': 0.21946,\n",
       " 'feat_19': 0.12272,\n",
       " 'feat_20': 37.573,\n",
       " 'feat_21': 0.9969,\n",
       " 'feat_22': 0.2951,\n",
       " 'feat_23': 0.097402,\n",
       " 'feat_24': 0.75641,\n",
       " 'feat_25': 0.46359,\n",
       " 'feat_26': 0.50669,\n",
       " 'feat_27': 1.9737,\n",
       " 'feat_28': 0.32417,\n",
       " 'feat_29': 5.9473,\n",
       " 'feat_30': 0.22493,\n",
       " 'feat_31': 0.12272,\n",
       " 'feat_32': 100.82,\n",
       " 'feat_33': 3.6203,\n",
       " 'feat_34': 0.71453,\n",
       " 'feat_35': 0.2951,\n",
       " 'feat_36': 1.8079,\n",
       " 'feat_37': 123140.0,\n",
       " 'feat_38': 0.46359,\n",
       " 'feat_39': 0.16501,\n",
       " 'feat_40': 0.21282,\n",
       " 'feat_41': 0.041124,\n",
       " 'feat_42': 0.16501,\n",
       " 'feat_43': 95.682,\n",
       " 'feat_44': 58.109,\n",
       " 'feat_45': 0.94621,\n",
       " 'feat_46': 0.90221,\n",
       " 'feat_47': 44.941,\n",
       " 'feat_48': 0.26003,\n",
       " 'feat_49': 0.1454,\n",
       " 'feat_50': 1.348,\n",
       " 'feat_51': 0.41299,\n",
       " 'feat_52': 0.27622,\n",
       " 'feat_53': 1.0457,\n",
       " 'feat_54': 1.0458,\n",
       " 'feat_55': 127280.0,\n",
       " 'feat_56': 0.16396,\n",
       " 'feat_57': 0.37574,\n",
       " 'feat_58': 0.83604,\n",
       " 'feat_59': 6.5269e-06,\n",
       " 'feat_60': 9.7145,\n",
       " 'feat_61': 6.2813,\n",
       " 'feat_62': 84.291,\n",
       " 'feat_63': 4.3303,\n",
       " 'feat_64': 4.0341,\n",
       " 'bankrupt': False}"
      ]
     },
     "execution_count": 8,
     "metadata": {},
     "output_type": "execute_result"
    }
   ],
   "source": [
    "# get financial data of the first company\n",
    "poland_data['data'][0]"
   ]
  },
  {
   "cell_type": "code",
   "execution_count": 9,
   "metadata": {},
   "outputs": [
    {
     "name": "stdout",
     "output_type": "stream",
     "text": [
      "There are 9977 companies in the dataset\n"
     ]
    }
   ],
   "source": [
    "# calculate number of companies\n",
    "print(f\"There are {len(poland_data['data'])} companies in the dataset\")"
   ]
  },
  {
   "cell_type": "code",
   "execution_count": 10,
   "metadata": {},
   "outputs": [
    {
     "name": "stdout",
     "output_type": "stream",
     "text": [
      "Each company has 66 attributes\n"
     ]
    }
   ],
   "source": [
    "# calculate number of features\n",
    "print(f\"Each company has {len(poland_data['data'][0])} attributes\")"
   ]
  },
  {
   "attachments": {},
   "cell_type": "markdown",
   "metadata": {},
   "source": [
    "### Import"
   ]
  },
  {
   "cell_type": "code",
   "execution_count": 11,
   "metadata": {},
   "outputs": [],
   "source": [
    "# define data wrangling function\n",
    "def wrangle(filepath):\n",
    "    \n",
    "    # Open compressed file, load into dictionary\n",
    "    with gzip.open(filepath, \"r\") as file:\n",
    "        data = json.load(file)\n",
    "        \n",
    "    # Load dictionary into DataFrame, set index\n",
    "    df = pd.DataFrame().from_dict(data['data']).set_index('company_id')\n",
    "\n",
    "    return df"
   ]
  },
  {
   "cell_type": "code",
   "execution_count": 12,
   "metadata": {},
   "outputs": [
    {
     "name": "stdout",
     "output_type": "stream",
     "text": [
      "(9977, 65)\n"
     ]
    },
    {
     "data": {
      "text/html": [
       "<div>\n",
       "<style scoped>\n",
       "    .dataframe tbody tr th:only-of-type {\n",
       "        vertical-align: middle;\n",
       "    }\n",
       "\n",
       "    .dataframe tbody tr th {\n",
       "        vertical-align: top;\n",
       "    }\n",
       "\n",
       "    .dataframe thead th {\n",
       "        text-align: right;\n",
       "    }\n",
       "</style>\n",
       "<table border=\"1\" class=\"dataframe\">\n",
       "  <thead>\n",
       "    <tr style=\"text-align: right;\">\n",
       "      <th></th>\n",
       "      <th>feat_1</th>\n",
       "      <th>feat_2</th>\n",
       "      <th>feat_3</th>\n",
       "      <th>feat_4</th>\n",
       "      <th>feat_5</th>\n",
       "      <th>feat_6</th>\n",
       "      <th>feat_7</th>\n",
       "      <th>feat_8</th>\n",
       "      <th>feat_9</th>\n",
       "      <th>feat_10</th>\n",
       "      <th>...</th>\n",
       "      <th>feat_56</th>\n",
       "      <th>feat_57</th>\n",
       "      <th>feat_58</th>\n",
       "      <th>feat_59</th>\n",
       "      <th>feat_60</th>\n",
       "      <th>feat_61</th>\n",
       "      <th>feat_62</th>\n",
       "      <th>feat_63</th>\n",
       "      <th>feat_64</th>\n",
       "      <th>bankrupt</th>\n",
       "    </tr>\n",
       "    <tr>\n",
       "      <th>company_id</th>\n",
       "      <th></th>\n",
       "      <th></th>\n",
       "      <th></th>\n",
       "      <th></th>\n",
       "      <th></th>\n",
       "      <th></th>\n",
       "      <th></th>\n",
       "      <th></th>\n",
       "      <th></th>\n",
       "      <th></th>\n",
       "      <th></th>\n",
       "      <th></th>\n",
       "      <th></th>\n",
       "      <th></th>\n",
       "      <th></th>\n",
       "      <th></th>\n",
       "      <th></th>\n",
       "      <th></th>\n",
       "      <th></th>\n",
       "      <th></th>\n",
       "      <th></th>\n",
       "    </tr>\n",
       "  </thead>\n",
       "  <tbody>\n",
       "    <tr>\n",
       "      <th>1</th>\n",
       "      <td>0.174190</td>\n",
       "      <td>0.41299</td>\n",
       "      <td>0.14371</td>\n",
       "      <td>1.3480</td>\n",
       "      <td>-28.9820</td>\n",
       "      <td>0.60383</td>\n",
       "      <td>0.219460</td>\n",
       "      <td>1.12250</td>\n",
       "      <td>1.1961</td>\n",
       "      <td>0.46359</td>\n",
       "      <td>...</td>\n",
       "      <td>0.163960</td>\n",
       "      <td>0.375740</td>\n",
       "      <td>0.83604</td>\n",
       "      <td>0.000007</td>\n",
       "      <td>9.7145</td>\n",
       "      <td>6.2813</td>\n",
       "      <td>84.291</td>\n",
       "      <td>4.3303</td>\n",
       "      <td>4.0341</td>\n",
       "      <td>False</td>\n",
       "    </tr>\n",
       "    <tr>\n",
       "      <th>2</th>\n",
       "      <td>0.146240</td>\n",
       "      <td>0.46038</td>\n",
       "      <td>0.28230</td>\n",
       "      <td>1.6294</td>\n",
       "      <td>2.5952</td>\n",
       "      <td>0.00000</td>\n",
       "      <td>0.171850</td>\n",
       "      <td>1.17210</td>\n",
       "      <td>1.6018</td>\n",
       "      <td>0.53962</td>\n",
       "      <td>...</td>\n",
       "      <td>0.027516</td>\n",
       "      <td>0.271000</td>\n",
       "      <td>0.90108</td>\n",
       "      <td>0.000000</td>\n",
       "      <td>5.9882</td>\n",
       "      <td>4.1103</td>\n",
       "      <td>102.190</td>\n",
       "      <td>3.5716</td>\n",
       "      <td>5.9500</td>\n",
       "      <td>False</td>\n",
       "    </tr>\n",
       "    <tr>\n",
       "      <th>3</th>\n",
       "      <td>0.000595</td>\n",
       "      <td>0.22612</td>\n",
       "      <td>0.48839</td>\n",
       "      <td>3.1599</td>\n",
       "      <td>84.8740</td>\n",
       "      <td>0.19114</td>\n",
       "      <td>0.004572</td>\n",
       "      <td>2.98810</td>\n",
       "      <td>1.0077</td>\n",
       "      <td>0.67566</td>\n",
       "      <td>...</td>\n",
       "      <td>0.007639</td>\n",
       "      <td>0.000881</td>\n",
       "      <td>0.99236</td>\n",
       "      <td>0.000000</td>\n",
       "      <td>6.7742</td>\n",
       "      <td>3.7922</td>\n",
       "      <td>64.846</td>\n",
       "      <td>5.6287</td>\n",
       "      <td>4.4581</td>\n",
       "      <td>False</td>\n",
       "    </tr>\n",
       "    <tr>\n",
       "      <th>5</th>\n",
       "      <td>0.188290</td>\n",
       "      <td>0.41504</td>\n",
       "      <td>0.34231</td>\n",
       "      <td>1.9279</td>\n",
       "      <td>-58.2740</td>\n",
       "      <td>0.00000</td>\n",
       "      <td>0.233580</td>\n",
       "      <td>1.40940</td>\n",
       "      <td>1.3393</td>\n",
       "      <td>0.58496</td>\n",
       "      <td>...</td>\n",
       "      <td>0.176480</td>\n",
       "      <td>0.321880</td>\n",
       "      <td>0.82635</td>\n",
       "      <td>0.073039</td>\n",
       "      <td>2.5912</td>\n",
       "      <td>7.0756</td>\n",
       "      <td>100.540</td>\n",
       "      <td>3.6303</td>\n",
       "      <td>4.6375</td>\n",
       "      <td>False</td>\n",
       "    </tr>\n",
       "    <tr>\n",
       "      <th>6</th>\n",
       "      <td>0.182060</td>\n",
       "      <td>0.55615</td>\n",
       "      <td>0.32191</td>\n",
       "      <td>1.6045</td>\n",
       "      <td>16.3140</td>\n",
       "      <td>0.00000</td>\n",
       "      <td>0.182060</td>\n",
       "      <td>0.79808</td>\n",
       "      <td>1.8126</td>\n",
       "      <td>0.44385</td>\n",
       "      <td>...</td>\n",
       "      <td>0.555770</td>\n",
       "      <td>0.410190</td>\n",
       "      <td>0.46957</td>\n",
       "      <td>0.029421</td>\n",
       "      <td>8.4553</td>\n",
       "      <td>3.3488</td>\n",
       "      <td>107.240</td>\n",
       "      <td>3.4036</td>\n",
       "      <td>12.4540</td>\n",
       "      <td>False</td>\n",
       "    </tr>\n",
       "  </tbody>\n",
       "</table>\n",
       "<p>5 rows × 65 columns</p>\n",
       "</div>"
      ],
      "text/plain": [
       "              feat_1   feat_2   feat_3  feat_4   feat_5   feat_6    feat_7  \\\n",
       "company_id                                                                   \n",
       "1           0.174190  0.41299  0.14371  1.3480 -28.9820  0.60383  0.219460   \n",
       "2           0.146240  0.46038  0.28230  1.6294   2.5952  0.00000  0.171850   \n",
       "3           0.000595  0.22612  0.48839  3.1599  84.8740  0.19114  0.004572   \n",
       "5           0.188290  0.41504  0.34231  1.9279 -58.2740  0.00000  0.233580   \n",
       "6           0.182060  0.55615  0.32191  1.6045  16.3140  0.00000  0.182060   \n",
       "\n",
       "             feat_8  feat_9  feat_10  ...   feat_56   feat_57  feat_58  \\\n",
       "company_id                            ...                                \n",
       "1           1.12250  1.1961  0.46359  ...  0.163960  0.375740  0.83604   \n",
       "2           1.17210  1.6018  0.53962  ...  0.027516  0.271000  0.90108   \n",
       "3           2.98810  1.0077  0.67566  ...  0.007639  0.000881  0.99236   \n",
       "5           1.40940  1.3393  0.58496  ...  0.176480  0.321880  0.82635   \n",
       "6           0.79808  1.8126  0.44385  ...  0.555770  0.410190  0.46957   \n",
       "\n",
       "             feat_59  feat_60  feat_61  feat_62  feat_63  feat_64  bankrupt  \n",
       "company_id                                                                   \n",
       "1           0.000007   9.7145   6.2813   84.291   4.3303   4.0341     False  \n",
       "2           0.000000   5.9882   4.1103  102.190   3.5716   5.9500     False  \n",
       "3           0.000000   6.7742   3.7922   64.846   5.6287   4.4581     False  \n",
       "5           0.073039   2.5912   7.0756  100.540   3.6303   4.6375     False  \n",
       "6           0.029421   8.4553   3.3488  107.240   3.4036  12.4540     False  \n",
       "\n",
       "[5 rows x 65 columns]"
      ]
     },
     "execution_count": 12,
     "metadata": {},
     "output_type": "execute_result"
    }
   ],
   "source": [
    "# print data\n",
    "df = wrangle(\"data/poland-bankruptcy-data-2009.json.gz\")\n",
    "print(df.shape)\n",
    "df.head()"
   ]
  },
  {
   "attachments": {},
   "cell_type": "markdown",
   "metadata": {},
   "source": [
    "### Explore More"
   ]
  },
  {
   "cell_type": "code",
   "execution_count": 13,
   "metadata": {},
   "outputs": [
    {
     "name": "stdout",
     "output_type": "stream",
     "text": [
      "<class 'pandas.core.frame.DataFrame'>\n",
      "Int64Index: 9977 entries, 1 to 10503\n",
      "Data columns (total 65 columns):\n",
      " #   Column    Non-Null Count  Dtype  \n",
      "---  ------    --------------  -----  \n",
      " 0   feat_1    9977 non-null   float64\n",
      " 1   feat_2    9977 non-null   float64\n",
      " 2   feat_3    9977 non-null   float64\n",
      " 3   feat_4    9960 non-null   float64\n",
      " 4   feat_5    9952 non-null   float64\n",
      " 5   feat_6    9977 non-null   float64\n",
      " 6   feat_7    9977 non-null   float64\n",
      " 7   feat_8    9964 non-null   float64\n",
      " 8   feat_9    9974 non-null   float64\n",
      " 9   feat_10   9977 non-null   float64\n",
      " 10  feat_11   9977 non-null   float64\n",
      " 11  feat_12   9960 non-null   float64\n",
      " 12  feat_13   9935 non-null   float64\n",
      " 13  feat_14   9977 non-null   float64\n",
      " 14  feat_15   9970 non-null   float64\n",
      " 15  feat_16   9964 non-null   float64\n",
      " 16  feat_17   9964 non-null   float64\n",
      " 17  feat_18   9977 non-null   float64\n",
      " 18  feat_19   9935 non-null   float64\n",
      " 19  feat_20   9935 non-null   float64\n",
      " 20  feat_21   9205 non-null   float64\n",
      " 21  feat_22   9977 non-null   float64\n",
      " 22  feat_23   9935 non-null   float64\n",
      " 23  feat_24   9764 non-null   float64\n",
      " 24  feat_25   9977 non-null   float64\n",
      " 25  feat_26   9964 non-null   float64\n",
      " 26  feat_27   9312 non-null   float64\n",
      " 27  feat_28   9765 non-null   float64\n",
      " 28  feat_29   9977 non-null   float64\n",
      " 29  feat_30   9935 non-null   float64\n",
      " 30  feat_31   9935 non-null   float64\n",
      " 31  feat_32   9881 non-null   float64\n",
      " 32  feat_33   9960 non-null   float64\n",
      " 33  feat_34   9964 non-null   float64\n",
      " 34  feat_35   9977 non-null   float64\n",
      " 35  feat_36   9977 non-null   float64\n",
      " 36  feat_37   5499 non-null   float64\n",
      " 37  feat_38   9977 non-null   float64\n",
      " 38  feat_39   9935 non-null   float64\n",
      " 39  feat_40   9960 non-null   float64\n",
      " 40  feat_41   9787 non-null   float64\n",
      " 41  feat_42   9935 non-null   float64\n",
      " 42  feat_43   9935 non-null   float64\n",
      " 43  feat_44   9935 non-null   float64\n",
      " 44  feat_45   9416 non-null   float64\n",
      " 45  feat_46   9960 non-null   float64\n",
      " 46  feat_47   9896 non-null   float64\n",
      " 47  feat_48   9977 non-null   float64\n",
      " 48  feat_49   9935 non-null   float64\n",
      " 49  feat_50   9964 non-null   float64\n",
      " 50  feat_51   9977 non-null   float64\n",
      " 51  feat_52   9896 non-null   float64\n",
      " 52  feat_53   9765 non-null   float64\n",
      " 53  feat_54   9765 non-null   float64\n",
      " 54  feat_55   9977 non-null   float64\n",
      " 55  feat_56   9935 non-null   float64\n",
      " 56  feat_57   9977 non-null   float64\n",
      " 57  feat_58   9948 non-null   float64\n",
      " 58  feat_59   9977 non-null   float64\n",
      " 59  feat_60   9415 non-null   float64\n",
      " 60  feat_61   9961 non-null   float64\n",
      " 61  feat_62   9935 non-null   float64\n",
      " 62  feat_63   9960 non-null   float64\n",
      " 63  feat_64   9765 non-null   float64\n",
      " 64  bankrupt  9977 non-null   bool   \n",
      "dtypes: bool(1), float64(64)\n",
      "memory usage: 5.0 MB\n"
     ]
    }
   ],
   "source": [
    "# inspect dataframe\n",
    "df.info()"
   ]
  },
  {
   "cell_type": "code",
   "execution_count": 14,
   "metadata": {},
   "outputs": [
    {
     "name": "stdout",
     "output_type": "stream",
     "text": [
      "nans_by_col shape: (65,)\n"
     ]
    },
    {
     "data": {
      "text/plain": [
       "feat_1     0\n",
       "feat_2     0\n",
       "feat_3     0\n",
       "feat_4    17\n",
       "feat_5    25\n",
       "dtype: int64"
      ]
     },
     "execution_count": 14,
     "metadata": {},
     "output_type": "execute_result"
    }
   ],
   "source": [
    "# calculate nulls in each column\n",
    "nans_by_col = df.isnull().sum()\n",
    "print(\"nans_by_col shape:\", nans_by_col.shape)\n",
    "nans_by_col.head()"
   ]
  },
  {
   "cell_type": "code",
   "execution_count": 15,
   "metadata": {},
   "outputs": [
    {
     "data": {
      "image/png": "[encoded data removed]",
      "text/plain": [
       "<Figure size 640x480 with 1 Axes>"
      ]
     },
     "metadata": {},
     "output_type": "display_data"
    }
   ],
   "source": [
    "# plot class balance\n",
    "df['bankrupt'].value_counts(normalize=True).plot(\n",
    "    kind=\"bar\",\n",
    "    xlabel= \"Bankrupt\",\n",
    "    ylabel=\"Frequency\",\n",
    "    title=\"Class Balance\"\n",
    ");"
   ]
  },
  {
   "cell_type": "code",
   "execution_count": 16,
   "metadata": {},
   "outputs": [
    {
     "data": {
      "image/png": "[encoded data removed]",
      "text/plain": [
       "<Figure size 640x480 with 1 Axes>"
      ]
     },
     "metadata": {},
     "output_type": "display_data"
    }
   ],
   "source": [
    "# Create boxplot\n",
    "sns.boxplot(x=\"bankrupt\", y=\"feat_27\", data=df)\n",
    "plt.xlabel(\"Bankrupt\")\n",
    "plt.ylabel(\"POA / financial expenses\")\n",
    "plt.title(\"Distribution of Profit/Expenses Ratio, by Class\");"
   ]
  },
  {
   "cell_type": "code",
   "execution_count": 17,
   "metadata": {},
   "outputs": [
    {
     "data": {
      "text/plain": [
       "count        9,312\n",
       "mean         1,206\n",
       "std         35,477\n",
       "min       -190,130\n",
       "25%              0\n",
       "50%              1\n",
       "75%              5\n",
       "max      2,723,000\n",
       "Name: feat_27, dtype: object"
      ]
     },
     "execution_count": 17,
     "metadata": {},
     "output_type": "execute_result"
    }
   ],
   "source": [
    "# Summary statistics for `feat_27`\n",
    "df['feat_27'].describe().apply(\"{0:,.0f}\".format)"
   ]
  },
  {
   "cell_type": "code",
   "execution_count": 18,
   "metadata": {},
   "outputs": [
    {
     "data": {
      "image/png": "[encoded data removed]",
      "text/plain": [
       "<Figure size 640x480 with 1 Axes>"
      ]
     },
     "metadata": {},
     "output_type": "display_data"
    }
   ],
   "source": [
    "# Plot histogram of `feat_27`\n",
    "df[\"feat_27\"].hist()\n",
    "plt.xlabel(\"POA / financial expenses\")\n",
    "plt.ylabel(\"Count\"),\n",
    "plt.title(\"Distribution of Profit/Expenses Ratio\");"
   ]
  },
  {
   "cell_type": "code",
   "execution_count": 19,
   "metadata": {},
   "outputs": [
    {
     "data": {
      "image/png": "[encoded data removed]",
      "text/plain": [
       "<Figure size 640x480 with 1 Axes>"
      ]
     },
     "metadata": {},
     "output_type": "display_data"
    }
   ],
   "source": [
    "# Create clipped boxplot\n",
    "q1,q9 = df[\"feat_27\"].quantile([0.1,0.9])\n",
    "mask = df[\"feat_27\"].between(q1,q9)\n",
    "sns.boxplot(x=\"bankrupt\", y=\"feat_27\", data=df[mask])\n",
    "plt.xlabel(\"Bankrupt\")\n",
    "plt.ylabel(\"POA / financial expenses\")\n",
    "plt.title(\"Distribution of Profit/Expenses Ratio, by Bankruptcy Status\");"
   ]
  },
  {
   "cell_type": "code",
   "execution_count": 20,
   "metadata": {},
   "outputs": [
    {
     "data": {
      "image/png": "[encoded data removed]",
      "text/plain": [
       "<Figure size 640x480 with 2 Axes>"
      ]
     },
     "metadata": {},
     "output_type": "display_data"
    }
   ],
   "source": [
    "# create correlation heatmap\n",
    "corr = df.drop(columns=\"bankrupt\").corr()\n",
    "sns.heatmap(corr);\n"
   ]
  },
  {
   "attachments": {},
   "cell_type": "markdown",
   "metadata": {},
   "source": [
    "### Split"
   ]
  },
  {
   "cell_type": "code",
   "execution_count": 14,
   "metadata": {},
   "outputs": [
    {
     "name": "stdout",
     "output_type": "stream",
     "text": [
      "X shape: (9977, 64)\n",
      "y shape: (9977,)\n"
     ]
    }
   ],
   "source": [
    "# assign target variable\n",
    "target = \"bankrupt\"\n",
    "\n",
    "# perform vertical split\n",
    "X = df.drop(columns=target)\n",
    "y = df[target]\n",
    "\n",
    "print(\"X shape:\", X.shape)\n",
    "print(\"y shape:\", y.shape)"
   ]
  },
  {
   "cell_type": "code",
   "execution_count": 15,
   "metadata": {},
   "outputs": [
    {
     "name": "stdout",
     "output_type": "stream",
     "text": [
      "X_train shape: (7981, 64)\n",
      "y_train shape: (7981,)\n",
      "X_test shape: (1996, 64)\n",
      "y_test shape: (1996,)\n"
     ]
    }
   ],
   "source": [
    "# perform horizontal split\n",
    "X_train, X_test, y_train, y_test = train_test_split(X, y, test_size = 0.2, random_state = 42)\n",
    "\n",
    "print(\"X_train shape:\", X_train.shape)\n",
    "print(\"y_train shape:\", y_train.shape)\n",
    "print(\"X_test shape:\", X_test.shape)\n",
    "print(\"y_test shape:\", y_test.shape)"
   ]
  },
  {
   "cell_type": "code",
   "execution_count": 16,
   "metadata": {},
   "outputs": [
    {
     "name": "stdout",
     "output_type": "stream",
     "text": [
      "X_train shape: (6384, 64)\n",
      "y_train shape: (6384,)\n",
      "X_val shape: (1597, 64)\n",
      "y_val shape: (1597,)\n"
     ]
    }
   ],
   "source": [
    "# create training and validation data\n",
    "X_train, X_val, y_train, y_val = train_test_split(X_train,y_train,test_size=0.2, random_state=42)\n",
    "print(\"X_train shape:\", X_train.shape)\n",
    "print(\"y_train shape:\", y_train.shape)\n",
    "print(\"X_val shape:\", X_val.shape)\n",
    "print(\"y_val shape:\", y_val.shape)"
   ]
  },
  {
   "attachments": {},
   "cell_type": "markdown",
   "metadata": {},
   "source": [
    "### Resample\n"
   ]
  },
  {
   "attachments": {},
   "cell_type": "markdown",
   "metadata": {},
   "source": [
    "#### Random Under-sampling"
   ]
  },
  {
   "cell_type": "code",
   "execution_count": 17,
   "metadata": {},
   "outputs": [
    {
     "name": "stdout",
     "output_type": "stream",
     "text": [
      "(614, 64)\n"
     ]
    },
    {
     "data": {
      "text/html": [
       "<div>\n",
       "<style scoped>\n",
       "    .dataframe tbody tr th:only-of-type {\n",
       "        vertical-align: middle;\n",
       "    }\n",
       "\n",
       "    .dataframe tbody tr th {\n",
       "        vertical-align: top;\n",
       "    }\n",
       "\n",
       "    .dataframe thead th {\n",
       "        text-align: right;\n",
       "    }\n",
       "</style>\n",
       "<table border=\"1\" class=\"dataframe\">\n",
       "  <thead>\n",
       "    <tr style=\"text-align: right;\">\n",
       "      <th></th>\n",
       "      <th>feat_1</th>\n",
       "      <th>feat_2</th>\n",
       "      <th>feat_3</th>\n",
       "      <th>feat_4</th>\n",
       "      <th>feat_5</th>\n",
       "      <th>feat_6</th>\n",
       "      <th>feat_7</th>\n",
       "      <th>feat_8</th>\n",
       "      <th>feat_9</th>\n",
       "      <th>feat_10</th>\n",
       "      <th>...</th>\n",
       "      <th>feat_55</th>\n",
       "      <th>feat_56</th>\n",
       "      <th>feat_57</th>\n",
       "      <th>feat_58</th>\n",
       "      <th>feat_59</th>\n",
       "      <th>feat_60</th>\n",
       "      <th>feat_61</th>\n",
       "      <th>feat_62</th>\n",
       "      <th>feat_63</th>\n",
       "      <th>feat_64</th>\n",
       "    </tr>\n",
       "  </thead>\n",
       "  <tbody>\n",
       "    <tr>\n",
       "      <th>0</th>\n",
       "      <td>-0.048528</td>\n",
       "      <td>0.54436</td>\n",
       "      <td>-0.035831</td>\n",
       "      <td>0.93407</td>\n",
       "      <td>-85.016</td>\n",
       "      <td>0.101070</td>\n",
       "      <td>-0.076917</td>\n",
       "      <td>0.79425</td>\n",
       "      <td>1.05350</td>\n",
       "      <td>0.43236</td>\n",
       "      <td>...</td>\n",
       "      <td>-2555.5</td>\n",
       "      <td>0.050750</td>\n",
       "      <td>-0.112240</td>\n",
       "      <td>0.94925</td>\n",
       "      <td>0.002140</td>\n",
       "      <td>17.3620</td>\n",
       "      <td>6.7795</td>\n",
       "      <td>134.850</td>\n",
       "      <td>2.70670</td>\n",
       "      <td>2.98720</td>\n",
       "    </tr>\n",
       "    <tr>\n",
       "      <th>1</th>\n",
       "      <td>0.484910</td>\n",
       "      <td>0.35377</td>\n",
       "      <td>0.299150</td>\n",
       "      <td>1.98970</td>\n",
       "      <td>46.321</td>\n",
       "      <td>0.000000</td>\n",
       "      <td>0.484910</td>\n",
       "      <td>1.82670</td>\n",
       "      <td>1.97710</td>\n",
       "      <td>0.64623</td>\n",
       "      <td>...</td>\n",
       "      <td>1154.5</td>\n",
       "      <td>0.251150</td>\n",
       "      <td>0.750380</td>\n",
       "      <td>0.75599</td>\n",
       "      <td>0.060785</td>\n",
       "      <td>24.3650</td>\n",
       "      <td>4.1618</td>\n",
       "      <td>55.803</td>\n",
       "      <td>6.54090</td>\n",
       "      <td>4.96040</td>\n",
       "    </tr>\n",
       "    <tr>\n",
       "      <th>2</th>\n",
       "      <td>0.027151</td>\n",
       "      <td>0.67266</td>\n",
       "      <td>-0.179270</td>\n",
       "      <td>0.66323</td>\n",
       "      <td>-158.040</td>\n",
       "      <td>0.045962</td>\n",
       "      <td>0.037442</td>\n",
       "      <td>0.48663</td>\n",
       "      <td>1.09640</td>\n",
       "      <td>0.32734</td>\n",
       "      <td>...</td>\n",
       "      <td>-7536.2</td>\n",
       "      <td>0.087917</td>\n",
       "      <td>0.082944</td>\n",
       "      <td>0.91208</td>\n",
       "      <td>0.428750</td>\n",
       "      <td>4.9004</td>\n",
       "      <td>8.7207</td>\n",
       "      <td>179.850</td>\n",
       "      <td>2.02940</td>\n",
       "      <td>1.66980</td>\n",
       "    </tr>\n",
       "    <tr>\n",
       "      <th>3</th>\n",
       "      <td>0.064845</td>\n",
       "      <td>0.19322</td>\n",
       "      <td>0.157910</td>\n",
       "      <td>2.39170</td>\n",
       "      <td>64.879</td>\n",
       "      <td>0.000000</td>\n",
       "      <td>0.064845</td>\n",
       "      <td>4.17560</td>\n",
       "      <td>0.67095</td>\n",
       "      <td>0.80678</td>\n",
       "      <td>...</td>\n",
       "      <td>1260.1</td>\n",
       "      <td>0.472680</td>\n",
       "      <td>0.080374</td>\n",
       "      <td>0.56136</td>\n",
       "      <td>0.097595</td>\n",
       "      <td>202.7500</td>\n",
       "      <td>4.1625</td>\n",
       "      <td>61.724</td>\n",
       "      <td>5.91340</td>\n",
       "      <td>0.92084</td>\n",
       "    </tr>\n",
       "    <tr>\n",
       "      <th>4</th>\n",
       "      <td>-0.011626</td>\n",
       "      <td>0.56326</td>\n",
       "      <td>0.290910</td>\n",
       "      <td>1.74970</td>\n",
       "      <td>-50.682</td>\n",
       "      <td>-0.011626</td>\n",
       "      <td>-0.002733</td>\n",
       "      <td>0.64785</td>\n",
       "      <td>1.01140</td>\n",
       "      <td>0.36491</td>\n",
       "      <td>...</td>\n",
       "      <td>24931.0</td>\n",
       "      <td>0.011285</td>\n",
       "      <td>-0.031859</td>\n",
       "      <td>0.98871</td>\n",
       "      <td>0.480240</td>\n",
       "      <td>1.1494</td>\n",
       "      <td>1.0735</td>\n",
       "      <td>391.910</td>\n",
       "      <td>0.93134</td>\n",
       "      <td>1.12550</td>\n",
       "    </tr>\n",
       "  </tbody>\n",
       "</table>\n",
       "<p>5 rows × 64 columns</p>\n",
       "</div>"
      ],
      "text/plain": [
       "     feat_1   feat_2    feat_3   feat_4   feat_5    feat_6    feat_7   feat_8  \\\n",
       "0 -0.048528  0.54436 -0.035831  0.93407  -85.016  0.101070 -0.076917  0.79425   \n",
       "1  0.484910  0.35377  0.299150  1.98970   46.321  0.000000  0.484910  1.82670   \n",
       "2  0.027151  0.67266 -0.179270  0.66323 -158.040  0.045962  0.037442  0.48663   \n",
       "3  0.064845  0.19322  0.157910  2.39170   64.879  0.000000  0.064845  4.17560   \n",
       "4 -0.011626  0.56326  0.290910  1.74970  -50.682 -0.011626 -0.002733  0.64785   \n",
       "\n",
       "    feat_9  feat_10  ...  feat_55   feat_56   feat_57  feat_58   feat_59  \\\n",
       "0  1.05350  0.43236  ...  -2555.5  0.050750 -0.112240  0.94925  0.002140   \n",
       "1  1.97710  0.64623  ...   1154.5  0.251150  0.750380  0.75599  0.060785   \n",
       "2  1.09640  0.32734  ...  -7536.2  0.087917  0.082944  0.91208  0.428750   \n",
       "3  0.67095  0.80678  ...   1260.1  0.472680  0.080374  0.56136  0.097595   \n",
       "4  1.01140  0.36491  ...  24931.0  0.011285 -0.031859  0.98871  0.480240   \n",
       "\n",
       "    feat_60  feat_61  feat_62  feat_63  feat_64  \n",
       "0   17.3620   6.7795  134.850  2.70670  2.98720  \n",
       "1   24.3650   4.1618   55.803  6.54090  4.96040  \n",
       "2    4.9004   8.7207  179.850  2.02940  1.66980  \n",
       "3  202.7500   4.1625   61.724  5.91340  0.92084  \n",
       "4    1.1494   1.0735  391.910  0.93134  1.12550  \n",
       "\n",
       "[5 rows x 64 columns]"
      ]
     },
     "execution_count": 17,
     "metadata": {},
     "output_type": "execute_result"
    }
   ],
   "source": [
    "# initialize randomundersampler object\n",
    "under_sampler = RandomUnderSampler(random_state = 42)\n",
    "# create undersampled training data\n",
    "X_train_under, y_train_under = under_sampler.fit_resample(X_train, y_train)\n",
    "print(X_train_under.shape)\n",
    "X_train_under.head()"
   ]
  },
  {
   "cell_type": "code",
   "execution_count": 18,
   "metadata": {},
   "outputs": [
    {
     "data": {
      "text/plain": [
       "False    0.5\n",
       "True     0.5\n",
       "Name: bankrupt, dtype: float64"
      ]
     },
     "execution_count": 18,
     "metadata": {},
     "output_type": "execute_result"
    }
   ],
   "source": [
    "# check if data is balanced\n",
    "y_train_under.value_counts(normalize=True)"
   ]
  },
  {
   "attachments": {},
   "cell_type": "markdown",
   "metadata": {},
   "source": [
    "#### Random Over-sampling"
   ]
  },
  {
   "cell_type": "code",
   "execution_count": 19,
   "metadata": {},
   "outputs": [
    {
     "name": "stdout",
     "output_type": "stream",
     "text": [
      "(12154, 64)\n"
     ]
    },
    {
     "data": {
      "text/html": [
       "<div>\n",
       "<style scoped>\n",
       "    .dataframe tbody tr th:only-of-type {\n",
       "        vertical-align: middle;\n",
       "    }\n",
       "\n",
       "    .dataframe tbody tr th {\n",
       "        vertical-align: top;\n",
       "    }\n",
       "\n",
       "    .dataframe thead th {\n",
       "        text-align: right;\n",
       "    }\n",
       "</style>\n",
       "<table border=\"1\" class=\"dataframe\">\n",
       "  <thead>\n",
       "    <tr style=\"text-align: right;\">\n",
       "      <th></th>\n",
       "      <th>feat_1</th>\n",
       "      <th>feat_2</th>\n",
       "      <th>feat_3</th>\n",
       "      <th>feat_4</th>\n",
       "      <th>feat_5</th>\n",
       "      <th>feat_6</th>\n",
       "      <th>feat_7</th>\n",
       "      <th>feat_8</th>\n",
       "      <th>feat_9</th>\n",
       "      <th>feat_10</th>\n",
       "      <th>...</th>\n",
       "      <th>feat_55</th>\n",
       "      <th>feat_56</th>\n",
       "      <th>feat_57</th>\n",
       "      <th>feat_58</th>\n",
       "      <th>feat_59</th>\n",
       "      <th>feat_60</th>\n",
       "      <th>feat_61</th>\n",
       "      <th>feat_62</th>\n",
       "      <th>feat_63</th>\n",
       "      <th>feat_64</th>\n",
       "    </tr>\n",
       "  </thead>\n",
       "  <tbody>\n",
       "    <tr>\n",
       "      <th>0</th>\n",
       "      <td>0.729340</td>\n",
       "      <td>0.52182</td>\n",
       "      <td>0.367880</td>\n",
       "      <td>1.70500</td>\n",
       "      <td>9.1163</td>\n",
       "      <td>2.644000e-07</td>\n",
       "      <td>0.906580</td>\n",
       "      <td>0.91635</td>\n",
       "      <td>5.3070</td>\n",
       "      <td>0.47818</td>\n",
       "      <td>...</td>\n",
       "      <td>1391.50</td>\n",
       "      <td>0.181610</td>\n",
       "      <td>1.525300</td>\n",
       "      <td>0.82920</td>\n",
       "      <td>0.0000</td>\n",
       "      <td>20.6730</td>\n",
       "      <td>10.0910</td>\n",
       "      <td>35.889</td>\n",
       "      <td>10.1700</td>\n",
       "      <td>48.1150</td>\n",
       "    </tr>\n",
       "    <tr>\n",
       "      <th>1</th>\n",
       "      <td>0.085838</td>\n",
       "      <td>0.64143</td>\n",
       "      <td>0.025894</td>\n",
       "      <td>1.06480</td>\n",
       "      <td>-61.1180</td>\n",
       "      <td>2.871900e-01</td>\n",
       "      <td>0.111450</td>\n",
       "      <td>0.54599</td>\n",
       "      <td>1.1614</td>\n",
       "      <td>0.35022</td>\n",
       "      <td>...</td>\n",
       "      <td>752.78</td>\n",
       "      <td>0.139000</td>\n",
       "      <td>0.245100</td>\n",
       "      <td>0.86100</td>\n",
       "      <td>0.6908</td>\n",
       "      <td>6.4938</td>\n",
       "      <td>7.1484</td>\n",
       "      <td>131.090</td>\n",
       "      <td>2.7844</td>\n",
       "      <td>1.9359</td>\n",
       "    </tr>\n",
       "    <tr>\n",
       "      <th>2</th>\n",
       "      <td>0.164050</td>\n",
       "      <td>0.74380</td>\n",
       "      <td>-0.319370</td>\n",
       "      <td>0.49720</td>\n",
       "      <td>-150.2300</td>\n",
       "      <td>1.471400e-01</td>\n",
       "      <td>0.207510</td>\n",
       "      <td>0.34041</td>\n",
       "      <td>1.2311</td>\n",
       "      <td>0.25320</td>\n",
       "      <td>...</td>\n",
       "      <td>-15980.00</td>\n",
       "      <td>0.187730</td>\n",
       "      <td>0.647940</td>\n",
       "      <td>0.81227</td>\n",
       "      <td>0.4290</td>\n",
       "      <td>8.0376</td>\n",
       "      <td>13.9680</td>\n",
       "      <td>147.180</td>\n",
       "      <td>2.4800</td>\n",
       "      <td>2.3024</td>\n",
       "    </tr>\n",
       "    <tr>\n",
       "      <th>3</th>\n",
       "      <td>0.054298</td>\n",
       "      <td>0.51671</td>\n",
       "      <td>0.261350</td>\n",
       "      <td>1.51070</td>\n",
       "      <td>-26.2110</td>\n",
       "      <td>0.000000e+00</td>\n",
       "      <td>0.067057</td>\n",
       "      <td>0.93534</td>\n",
       "      <td>1.9411</td>\n",
       "      <td>0.48329</td>\n",
       "      <td>...</td>\n",
       "      <td>212.35</td>\n",
       "      <td>0.034188</td>\n",
       "      <td>0.112350</td>\n",
       "      <td>0.96551</td>\n",
       "      <td>0.0000</td>\n",
       "      <td>4.9037</td>\n",
       "      <td>7.4610</td>\n",
       "      <td>96.221</td>\n",
       "      <td>3.7933</td>\n",
       "      <td>8.5539</td>\n",
       "    </tr>\n",
       "    <tr>\n",
       "      <th>4</th>\n",
       "      <td>0.000836</td>\n",
       "      <td>0.63991</td>\n",
       "      <td>-0.040320</td>\n",
       "      <td>0.90768</td>\n",
       "      <td>-43.4850</td>\n",
       "      <td>-1.422900e-02</td>\n",
       "      <td>0.016359</td>\n",
       "      <td>0.56271</td>\n",
       "      <td>1.7371</td>\n",
       "      <td>0.36009</td>\n",
       "      <td>...</td>\n",
       "      <td>-1914.00</td>\n",
       "      <td>0.047134</td>\n",
       "      <td>0.002321</td>\n",
       "      <td>0.99045</td>\n",
       "      <td>0.4564</td>\n",
       "      <td>13.2200</td>\n",
       "      <td>8.3677</td>\n",
       "      <td>91.774</td>\n",
       "      <td>3.9772</td>\n",
       "      <td>2.8780</td>\n",
       "    </tr>\n",
       "  </tbody>\n",
       "</table>\n",
       "<p>5 rows × 64 columns</p>\n",
       "</div>"
      ],
      "text/plain": [
       "     feat_1   feat_2    feat_3   feat_4    feat_5        feat_6    feat_7  \\\n",
       "0  0.729340  0.52182  0.367880  1.70500    9.1163  2.644000e-07  0.906580   \n",
       "1  0.085838  0.64143  0.025894  1.06480  -61.1180  2.871900e-01  0.111450   \n",
       "2  0.164050  0.74380 -0.319370  0.49720 -150.2300  1.471400e-01  0.207510   \n",
       "3  0.054298  0.51671  0.261350  1.51070  -26.2110  0.000000e+00  0.067057   \n",
       "4  0.000836  0.63991 -0.040320  0.90768  -43.4850 -1.422900e-02  0.016359   \n",
       "\n",
       "    feat_8  feat_9  feat_10  ...   feat_55   feat_56   feat_57  feat_58  \\\n",
       "0  0.91635  5.3070  0.47818  ...   1391.50  0.181610  1.525300  0.82920   \n",
       "1  0.54599  1.1614  0.35022  ...    752.78  0.139000  0.245100  0.86100   \n",
       "2  0.34041  1.2311  0.25320  ... -15980.00  0.187730  0.647940  0.81227   \n",
       "3  0.93534  1.9411  0.48329  ...    212.35  0.034188  0.112350  0.96551   \n",
       "4  0.56271  1.7371  0.36009  ...  -1914.00  0.047134  0.002321  0.99045   \n",
       "\n",
       "   feat_59  feat_60  feat_61  feat_62  feat_63  feat_64  \n",
       "0   0.0000  20.6730  10.0910   35.889  10.1700  48.1150  \n",
       "1   0.6908   6.4938   7.1484  131.090   2.7844   1.9359  \n",
       "2   0.4290   8.0376  13.9680  147.180   2.4800   2.3024  \n",
       "3   0.0000   4.9037   7.4610   96.221   3.7933   8.5539  \n",
       "4   0.4564  13.2200   8.3677   91.774   3.9772   2.8780  \n",
       "\n",
       "[5 rows x 64 columns]"
      ]
     },
     "execution_count": 19,
     "metadata": {},
     "output_type": "execute_result"
    }
   ],
   "source": [
    "# Initialize oversampler object\n",
    "over_sampler = RandomOverSampler(random_state=42)\n",
    "# create oversampled training data\n",
    "X_train_over, y_train_over = over_sampler.fit_resample(X_train, y_train)\n",
    "print(X_train_over.shape)\n",
    "X_train_over.head()"
   ]
  },
  {
   "cell_type": "code",
   "execution_count": 20,
   "metadata": {},
   "outputs": [
    {
     "data": {
      "text/plain": [
       "False    0.5\n",
       "True     0.5\n",
       "Name: bankrupt, dtype: float64"
      ]
     },
     "execution_count": 20,
     "metadata": {},
     "output_type": "execute_result"
    }
   ],
   "source": [
    "# check if data is balanced\n",
    "y_train_over.value_counts(normalize=True)"
   ]
  },
  {
   "attachments": {},
   "cell_type": "markdown",
   "metadata": {},
   "source": [
    "## Build Model"
   ]
  },
  {
   "attachments": {},
   "cell_type": "markdown",
   "metadata": {},
   "source": [
    "### Baseline"
   ]
  },
  {
   "cell_type": "code",
   "execution_count": 21,
   "metadata": {},
   "outputs": [
    {
     "name": "stdout",
     "output_type": "stream",
     "text": [
      "Baseline Accuracy: 0.9519\n"
     ]
    }
   ],
   "source": [
    "# determine baseline accuracy\n",
    "acc_baseline = y_train.value_counts(normalize=True).max()\n",
    "print(\"Baseline Accuracy:\", round(acc_baseline, 4))"
   ]
  },
  {
   "attachments": {},
   "cell_type": "markdown",
   "metadata": {},
   "source": [
    "### Iterate"
   ]
  },
  {
   "attachments": {},
   "cell_type": "markdown",
   "metadata": {},
   "source": [
    "#### Imputer"
   ]
  },
  {
   "cell_type": "code",
   "execution_count": 22,
   "metadata": {},
   "outputs": [],
   "source": [
    "# create numerical processor for tree models\n",
    "num_tree_processor = SimpleImputer()\n"
   ]
  },
  {
   "attachments": {},
   "cell_type": "markdown",
   "metadata": {},
   "source": [
    "#### The Models\n",
    "\n"
   ]
  },
  {
   "cell_type": "code",
   "execution_count": 23,
   "metadata": {},
   "outputs": [],
   "source": [
    "# instantiate linear regression model\n",
    "dt_model = DecisionTreeClassifier(random_state=42)\n",
    "# instantiate random forrest model\n",
    "rf_model = RandomForestClassifier(random_state=42)\n",
    "# instantiate gradient boosting model\n",
    "gbdt_model = GradientBoostingClassifier(random_state=42)"
   ]
  },
  {
   "attachments": {},
   "cell_type": "markdown",
   "metadata": {},
   "source": [
    "#### Pipelines"
   ]
  },
  {
   "cell_type": "code",
   "execution_count": 24,
   "metadata": {},
   "outputs": [
    {
     "data": {
      "text/html": [
       "<style>#sk-container-id-1 {color: black;background-color: white;}#sk-container-id-1 pre{padding: 0;}#sk-container-id-1 div.sk-toggleable {background-color: white;}#sk-container-id-1 label.sk-toggleable__label {cursor: pointer;display: block;width: 100%;margin-bottom: 0;padding: 0.3em;box-sizing: border-box;text-align: center;}#sk-container-id-1 label.sk-toggleable__label-arrow:before {content: \"▸\";float: left;margin-right: 0.25em;color: #696969;}#sk-container-id-1 label.sk-toggleable__label-arrow:hover:before {color: black;}#sk-container-id-1 div.sk-estimator:hover label.sk-toggleable__label-arrow:before {color: black;}#sk-container-id-1 div.sk-toggleable__content {max-height: 0;max-width: 0;overflow: hidden;text-align: left;background-color: #f0f8ff;}#sk-container-id-1 div.sk-toggleable__content pre {margin: 0.2em;color: black;border-radius: 0.25em;background-color: #f0f8ff;}#sk-container-id-1 input.sk-toggleable__control:checked~div.sk-toggleable__content {max-height: 200px;max-width: 100%;overflow: auto;}#sk-container-id-1 input.sk-toggleable__control:checked~label.sk-toggleable__label-arrow:before {content: \"▾\";}#sk-container-id-1 div.sk-estimator input.sk-toggleable__control:checked~label.sk-toggleable__label {background-color: #d4ebff;}#sk-container-id-1 div.sk-label input.sk-toggleable__control:checked~label.sk-toggleable__label {background-color: #d4ebff;}#sk-container-id-1 input.sk-hidden--visually {border: 0;clip: rect(1px 1px 1px 1px);clip: rect(1px, 1px, 1px, 1px);height: 1px;margin: -1px;overflow: hidden;padding: 0;position: absolute;width: 1px;}#sk-container-id-1 div.sk-estimator {font-family: monospace;background-color: #f0f8ff;border: 1px dotted black;border-radius: 0.25em;box-sizing: border-box;margin-bottom: 0.5em;}#sk-container-id-1 div.sk-estimator:hover {background-color: #d4ebff;}#sk-container-id-1 div.sk-parallel-item::after {content: \"\";width: 100%;border-bottom: 1px solid gray;flex-grow: 1;}#sk-container-id-1 div.sk-label:hover label.sk-toggleable__label {background-color: #d4ebff;}#sk-container-id-1 div.sk-serial::before {content: \"\";position: absolute;border-left: 1px solid gray;box-sizing: border-box;top: 0;bottom: 0;left: 50%;z-index: 0;}#sk-container-id-1 div.sk-serial {display: flex;flex-direction: column;align-items: center;background-color: white;padding-right: 0.2em;padding-left: 0.2em;position: relative;}#sk-container-id-1 div.sk-item {position: relative;z-index: 1;}#sk-container-id-1 div.sk-parallel {display: flex;align-items: stretch;justify-content: center;background-color: white;position: relative;}#sk-container-id-1 div.sk-item::before, #sk-container-id-1 div.sk-parallel-item::before {content: \"\";position: absolute;border-left: 1px solid gray;box-sizing: border-box;top: 0;bottom: 0;left: 50%;z-index: -1;}#sk-container-id-1 div.sk-parallel-item {display: flex;flex-direction: column;z-index: 1;position: relative;background-color: white;}#sk-container-id-1 div.sk-parallel-item:first-child::after {align-self: flex-end;width: 50%;}#sk-container-id-1 div.sk-parallel-item:last-child::after {align-self: flex-start;width: 50%;}#sk-container-id-1 div.sk-parallel-item:only-child::after {width: 0;}#sk-container-id-1 div.sk-dashed-wrapped {border: 1px dashed gray;margin: 0 0.4em 0.5em 0.4em;box-sizing: border-box;padding-bottom: 0.4em;background-color: white;}#sk-container-id-1 div.sk-label label {font-family: monospace;font-weight: bold;display: inline-block;line-height: 1.2em;}#sk-container-id-1 div.sk-label-container {text-align: center;}#sk-container-id-1 div.sk-container {/* jupyter's `normalize.less` sets `[hidden] { display: none; }` but bootstrap.min.css set `[hidden] { display: none !important; }` so we also need the `!important` here to be able to override the default hidden behavior on the sphinx rendered scikit-learn.org. See: https://github.com/scikit-learn/scikit-learn/issues/21755 */display: inline-block !important;position: relative;}#sk-container-id-1 div.sk-text-repr-fallback {display: none;}</style><div id=\"sk-container-id-1\" class=\"sk-top-container\"><div class=\"sk-text-repr-fallback\"><pre>Pipeline(steps=[(&#x27;simpleimputer&#x27;, SimpleImputer()),\n",
       "                (&#x27;decisiontreeclassifier&#x27;,\n",
       "                 DecisionTreeClassifier(random_state=42))])</pre><b>In a Jupyter environment, please rerun this cell to show the HTML representation or trust the notebook. <br />On GitHub, the HTML representation is unable to render, please try loading this page with nbviewer.org.</b></div><div class=\"sk-container\" hidden><div class=\"sk-item sk-dashed-wrapped\"><div class=\"sk-label-container\"><div class=\"sk-label sk-toggleable\"><input class=\"sk-toggleable__control sk-hidden--visually\" id=\"sk-estimator-id-1\" type=\"checkbox\" ><label for=\"sk-estimator-id-1\" class=\"sk-toggleable__label sk-toggleable__label-arrow\">Pipeline</label><div class=\"sk-toggleable__content\"><pre>Pipeline(steps=[(&#x27;simpleimputer&#x27;, SimpleImputer()),\n",
       "                (&#x27;decisiontreeclassifier&#x27;,\n",
       "                 DecisionTreeClassifier(random_state=42))])</pre></div></div></div><div class=\"sk-serial\"><div class=\"sk-item\"><div class=\"sk-estimator sk-toggleable\"><input class=\"sk-toggleable__control sk-hidden--visually\" id=\"sk-estimator-id-2\" type=\"checkbox\" ><label for=\"sk-estimator-id-2\" class=\"sk-toggleable__label sk-toggleable__label-arrow\">SimpleImputer</label><div class=\"sk-toggleable__content\"><pre>SimpleImputer()</pre></div></div></div><div class=\"sk-item\"><div class=\"sk-estimator sk-toggleable\"><input class=\"sk-toggleable__control sk-hidden--visually\" id=\"sk-estimator-id-3\" type=\"checkbox\" ><label for=\"sk-estimator-id-3\" class=\"sk-toggleable__label sk-toggleable__label-arrow\">DecisionTreeClassifier</label><div class=\"sk-toggleable__content\"><pre>DecisionTreeClassifier(random_state=42)</pre></div></div></div></div></div></div></div>"
      ],
      "text/plain": [
       "Pipeline(steps=[('simpleimputer', SimpleImputer()),\n",
       "                ('decisiontreeclassifier',\n",
       "                 DecisionTreeClassifier(random_state=42))])"
      ]
     },
     "execution_count": 24,
     "metadata": {},
     "output_type": "execute_result"
    }
   ],
   "source": [
    "# create pipeline for decision tree model\n",
    "dt_pipeline = make_pipeline(num_tree_processor, dt_model)\n",
    "# display pipeline\n",
    "dt_pipeline\n"
   ]
  },
  {
   "cell_type": "code",
   "execution_count": 25,
   "metadata": {},
   "outputs": [
    {
     "data": {
      "text/html": [
       "<style>#sk-container-id-2 {color: black;background-color: white;}#sk-container-id-2 pre{padding: 0;}#sk-container-id-2 div.sk-toggleable {background-color: white;}#sk-container-id-2 label.sk-toggleable__label {cursor: pointer;display: block;width: 100%;margin-bottom: 0;padding: 0.3em;box-sizing: border-box;text-align: center;}#sk-container-id-2 label.sk-toggleable__label-arrow:before {content: \"▸\";float: left;margin-right: 0.25em;color: #696969;}#sk-container-id-2 label.sk-toggleable__label-arrow:hover:before {color: black;}#sk-container-id-2 div.sk-estimator:hover label.sk-toggleable__label-arrow:before {color: black;}#sk-container-id-2 div.sk-toggleable__content {max-height: 0;max-width: 0;overflow: hidden;text-align: left;background-color: #f0f8ff;}#sk-container-id-2 div.sk-toggleable__content pre {margin: 0.2em;color: black;border-radius: 0.25em;background-color: #f0f8ff;}#sk-container-id-2 input.sk-toggleable__control:checked~div.sk-toggleable__content {max-height: 200px;max-width: 100%;overflow: auto;}#sk-container-id-2 input.sk-toggleable__control:checked~label.sk-toggleable__label-arrow:before {content: \"▾\";}#sk-container-id-2 div.sk-estimator input.sk-toggleable__control:checked~label.sk-toggleable__label {background-color: #d4ebff;}#sk-container-id-2 div.sk-label input.sk-toggleable__control:checked~label.sk-toggleable__label {background-color: #d4ebff;}#sk-container-id-2 input.sk-hidden--visually {border: 0;clip: rect(1px 1px 1px 1px);clip: rect(1px, 1px, 1px, 1px);height: 1px;margin: -1px;overflow: hidden;padding: 0;position: absolute;width: 1px;}#sk-container-id-2 div.sk-estimator {font-family: monospace;background-color: #f0f8ff;border: 1px dotted black;border-radius: 0.25em;box-sizing: border-box;margin-bottom: 0.5em;}#sk-container-id-2 div.sk-estimator:hover {background-color: #d4ebff;}#sk-container-id-2 div.sk-parallel-item::after {content: \"\";width: 100%;border-bottom: 1px solid gray;flex-grow: 1;}#sk-container-id-2 div.sk-label:hover label.sk-toggleable__label {background-color: #d4ebff;}#sk-container-id-2 div.sk-serial::before {content: \"\";position: absolute;border-left: 1px solid gray;box-sizing: border-box;top: 0;bottom: 0;left: 50%;z-index: 0;}#sk-container-id-2 div.sk-serial {display: flex;flex-direction: column;align-items: center;background-color: white;padding-right: 0.2em;padding-left: 0.2em;position: relative;}#sk-container-id-2 div.sk-item {position: relative;z-index: 1;}#sk-container-id-2 div.sk-parallel {display: flex;align-items: stretch;justify-content: center;background-color: white;position: relative;}#sk-container-id-2 div.sk-item::before, #sk-container-id-2 div.sk-parallel-item::before {content: \"\";position: absolute;border-left: 1px solid gray;box-sizing: border-box;top: 0;bottom: 0;left: 50%;z-index: -1;}#sk-container-id-2 div.sk-parallel-item {display: flex;flex-direction: column;z-index: 1;position: relative;background-color: white;}#sk-container-id-2 div.sk-parallel-item:first-child::after {align-self: flex-end;width: 50%;}#sk-container-id-2 div.sk-parallel-item:last-child::after {align-self: flex-start;width: 50%;}#sk-container-id-2 div.sk-parallel-item:only-child::after {width: 0;}#sk-container-id-2 div.sk-dashed-wrapped {border: 1px dashed gray;margin: 0 0.4em 0.5em 0.4em;box-sizing: border-box;padding-bottom: 0.4em;background-color: white;}#sk-container-id-2 div.sk-label label {font-family: monospace;font-weight: bold;display: inline-block;line-height: 1.2em;}#sk-container-id-2 div.sk-label-container {text-align: center;}#sk-container-id-2 div.sk-container {/* jupyter's `normalize.less` sets `[hidden] { display: none; }` but bootstrap.min.css set `[hidden] { display: none !important; }` so we also need the `!important` here to be able to override the default hidden behavior on the sphinx rendered scikit-learn.org. See: https://github.com/scikit-learn/scikit-learn/issues/21755 */display: inline-block !important;position: relative;}#sk-container-id-2 div.sk-text-repr-fallback {display: none;}</style><div id=\"sk-container-id-2\" class=\"sk-top-container\"><div class=\"sk-text-repr-fallback\"><pre>Pipeline(steps=[(&#x27;simpleimputer&#x27;, SimpleImputer()),\n",
       "                (&#x27;randomforestclassifier&#x27;,\n",
       "                 RandomForestClassifier(random_state=42))])</pre><b>In a Jupyter environment, please rerun this cell to show the HTML representation or trust the notebook. <br />On GitHub, the HTML representation is unable to render, please try loading this page with nbviewer.org.</b></div><div class=\"sk-container\" hidden><div class=\"sk-item sk-dashed-wrapped\"><div class=\"sk-label-container\"><div class=\"sk-label sk-toggleable\"><input class=\"sk-toggleable__control sk-hidden--visually\" id=\"sk-estimator-id-4\" type=\"checkbox\" ><label for=\"sk-estimator-id-4\" class=\"sk-toggleable__label sk-toggleable__label-arrow\">Pipeline</label><div class=\"sk-toggleable__content\"><pre>Pipeline(steps=[(&#x27;simpleimputer&#x27;, SimpleImputer()),\n",
       "                (&#x27;randomforestclassifier&#x27;,\n",
       "                 RandomForestClassifier(random_state=42))])</pre></div></div></div><div class=\"sk-serial\"><div class=\"sk-item\"><div class=\"sk-estimator sk-toggleable\"><input class=\"sk-toggleable__control sk-hidden--visually\" id=\"sk-estimator-id-5\" type=\"checkbox\" ><label for=\"sk-estimator-id-5\" class=\"sk-toggleable__label sk-toggleable__label-arrow\">SimpleImputer</label><div class=\"sk-toggleable__content\"><pre>SimpleImputer()</pre></div></div></div><div class=\"sk-item\"><div class=\"sk-estimator sk-toggleable\"><input class=\"sk-toggleable__control sk-hidden--visually\" id=\"sk-estimator-id-6\" type=\"checkbox\" ><label for=\"sk-estimator-id-6\" class=\"sk-toggleable__label sk-toggleable__label-arrow\">RandomForestClassifier</label><div class=\"sk-toggleable__content\"><pre>RandomForestClassifier(random_state=42)</pre></div></div></div></div></div></div></div>"
      ],
      "text/plain": [
       "Pipeline(steps=[('simpleimputer', SimpleImputer()),\n",
       "                ('randomforestclassifier',\n",
       "                 RandomForestClassifier(random_state=42))])"
      ]
     },
     "execution_count": 25,
     "metadata": {},
     "output_type": "execute_result"
    }
   ],
   "source": [
    "# create pipeline for random forest model\n",
    "rf_pipeline = make_pipeline(num_tree_processor, rf_model)\n",
    "# display pipeline\n",
    "rf_pipeline"
   ]
  },
  {
   "cell_type": "code",
   "execution_count": 26,
   "metadata": {},
   "outputs": [
    {
     "data": {
      "text/html": [
       "<style>#sk-container-id-3 {color: black;background-color: white;}#sk-container-id-3 pre{padding: 0;}#sk-container-id-3 div.sk-toggleable {background-color: white;}#sk-container-id-3 label.sk-toggleable__label {cursor: pointer;display: block;width: 100%;margin-bottom: 0;padding: 0.3em;box-sizing: border-box;text-align: center;}#sk-container-id-3 label.sk-toggleable__label-arrow:before {content: \"▸\";float: left;margin-right: 0.25em;color: #696969;}#sk-container-id-3 label.sk-toggleable__label-arrow:hover:before {color: black;}#sk-container-id-3 div.sk-estimator:hover label.sk-toggleable__label-arrow:before {color: black;}#sk-container-id-3 div.sk-toggleable__content {max-height: 0;max-width: 0;overflow: hidden;text-align: left;background-color: #f0f8ff;}#sk-container-id-3 div.sk-toggleable__content pre {margin: 0.2em;color: black;border-radius: 0.25em;background-color: #f0f8ff;}#sk-container-id-3 input.sk-toggleable__control:checked~div.sk-toggleable__content {max-height: 200px;max-width: 100%;overflow: auto;}#sk-container-id-3 input.sk-toggleable__control:checked~label.sk-toggleable__label-arrow:before {content: \"▾\";}#sk-container-id-3 div.sk-estimator input.sk-toggleable__control:checked~label.sk-toggleable__label {background-color: #d4ebff;}#sk-container-id-3 div.sk-label input.sk-toggleable__control:checked~label.sk-toggleable__label {background-color: #d4ebff;}#sk-container-id-3 input.sk-hidden--visually {border: 0;clip: rect(1px 1px 1px 1px);clip: rect(1px, 1px, 1px, 1px);height: 1px;margin: -1px;overflow: hidden;padding: 0;position: absolute;width: 1px;}#sk-container-id-3 div.sk-estimator {font-family: monospace;background-color: #f0f8ff;border: 1px dotted black;border-radius: 0.25em;box-sizing: border-box;margin-bottom: 0.5em;}#sk-container-id-3 div.sk-estimator:hover {background-color: #d4ebff;}#sk-container-id-3 div.sk-parallel-item::after {content: \"\";width: 100%;border-bottom: 1px solid gray;flex-grow: 1;}#sk-container-id-3 div.sk-label:hover label.sk-toggleable__label {background-color: #d4ebff;}#sk-container-id-3 div.sk-serial::before {content: \"\";position: absolute;border-left: 1px solid gray;box-sizing: border-box;top: 0;bottom: 0;left: 50%;z-index: 0;}#sk-container-id-3 div.sk-serial {display: flex;flex-direction: column;align-items: center;background-color: white;padding-right: 0.2em;padding-left: 0.2em;position: relative;}#sk-container-id-3 div.sk-item {position: relative;z-index: 1;}#sk-container-id-3 div.sk-parallel {display: flex;align-items: stretch;justify-content: center;background-color: white;position: relative;}#sk-container-id-3 div.sk-item::before, #sk-container-id-3 div.sk-parallel-item::before {content: \"\";position: absolute;border-left: 1px solid gray;box-sizing: border-box;top: 0;bottom: 0;left: 50%;z-index: -1;}#sk-container-id-3 div.sk-parallel-item {display: flex;flex-direction: column;z-index: 1;position: relative;background-color: white;}#sk-container-id-3 div.sk-parallel-item:first-child::after {align-self: flex-end;width: 50%;}#sk-container-id-3 div.sk-parallel-item:last-child::after {align-self: flex-start;width: 50%;}#sk-container-id-3 div.sk-parallel-item:only-child::after {width: 0;}#sk-container-id-3 div.sk-dashed-wrapped {border: 1px dashed gray;margin: 0 0.4em 0.5em 0.4em;box-sizing: border-box;padding-bottom: 0.4em;background-color: white;}#sk-container-id-3 div.sk-label label {font-family: monospace;font-weight: bold;display: inline-block;line-height: 1.2em;}#sk-container-id-3 div.sk-label-container {text-align: center;}#sk-container-id-3 div.sk-container {/* jupyter's `normalize.less` sets `[hidden] { display: none; }` but bootstrap.min.css set `[hidden] { display: none !important; }` so we also need the `!important` here to be able to override the default hidden behavior on the sphinx rendered scikit-learn.org. See: https://github.com/scikit-learn/scikit-learn/issues/21755 */display: inline-block !important;position: relative;}#sk-container-id-3 div.sk-text-repr-fallback {display: none;}</style><div id=\"sk-container-id-3\" class=\"sk-top-container\"><div class=\"sk-text-repr-fallback\"><pre>Pipeline(steps=[(&#x27;simpleimputer&#x27;, SimpleImputer()),\n",
       "                (&#x27;gradientboostingclassifier&#x27;,\n",
       "                 GradientBoostingClassifier(random_state=42))])</pre><b>In a Jupyter environment, please rerun this cell to show the HTML representation or trust the notebook. <br />On GitHub, the HTML representation is unable to render, please try loading this page with nbviewer.org.</b></div><div class=\"sk-container\" hidden><div class=\"sk-item sk-dashed-wrapped\"><div class=\"sk-label-container\"><div class=\"sk-label sk-toggleable\"><input class=\"sk-toggleable__control sk-hidden--visually\" id=\"sk-estimator-id-7\" type=\"checkbox\" ><label for=\"sk-estimator-id-7\" class=\"sk-toggleable__label sk-toggleable__label-arrow\">Pipeline</label><div class=\"sk-toggleable__content\"><pre>Pipeline(steps=[(&#x27;simpleimputer&#x27;, SimpleImputer()),\n",
       "                (&#x27;gradientboostingclassifier&#x27;,\n",
       "                 GradientBoostingClassifier(random_state=42))])</pre></div></div></div><div class=\"sk-serial\"><div class=\"sk-item\"><div class=\"sk-estimator sk-toggleable\"><input class=\"sk-toggleable__control sk-hidden--visually\" id=\"sk-estimator-id-8\" type=\"checkbox\" ><label for=\"sk-estimator-id-8\" class=\"sk-toggleable__label sk-toggleable__label-arrow\">SimpleImputer</label><div class=\"sk-toggleable__content\"><pre>SimpleImputer()</pre></div></div></div><div class=\"sk-item\"><div class=\"sk-estimator sk-toggleable\"><input class=\"sk-toggleable__control sk-hidden--visually\" id=\"sk-estimator-id-9\" type=\"checkbox\" ><label for=\"sk-estimator-id-9\" class=\"sk-toggleable__label sk-toggleable__label-arrow\">GradientBoostingClassifier</label><div class=\"sk-toggleable__content\"><pre>GradientBoostingClassifier(random_state=42)</pre></div></div></div></div></div></div></div>"
      ],
      "text/plain": [
       "Pipeline(steps=[('simpleimputer', SimpleImputer()),\n",
       "                ('gradientboostingclassifier',\n",
       "                 GradientBoostingClassifier(random_state=42))])"
      ]
     },
     "execution_count": 26,
     "metadata": {},
     "output_type": "execute_result"
    }
   ],
   "source": [
    "# create pipeline for random forest model\n",
    "gbdt_pipeline = make_pipeline(num_tree_processor, gbdt_model)\n",
    "# display pipeline\n",
    "gbdt_pipeline"
   ]
  },
  {
   "attachments": {},
   "cell_type": "markdown",
   "metadata": {},
   "source": [
    "#### Evaluating with different data\n"
   ]
  },
  {
   "cell_type": "code",
   "execution_count": 27,
   "metadata": {},
   "outputs": [],
   "source": [
    "# Fit on `X_train`, `y_train`\n",
    "model_gbdt_reg = gbdt_pipeline.fit(X_train, y_train)\n",
    "model_rf_reg = rf_pipeline.fit(X_train, y_train)\n",
    "model_dt_reg = dt_pipeline.fit(X_train, y_train)\n",
    "\n",
    "# Fit on `X_train_under`, `y_train_under`\n",
    "model_gbdt_under = gbdt_pipeline.fit(X_train_under, y_train_under)\n",
    "model_rf_under = rf_pipeline.fit(X_train_under, y_train_under)\n",
    "model_dt_under = dt_pipeline.fit(X_train_under, y_train_under)\n",
    "\n",
    "# Fit on `X_train_over`, `y_train_over`\n",
    "model_gbdt_over = gbdt_pipeline.fit(X_train_over, y_train_over)\n",
    "model_rf_over = rf_pipeline.fit(X_train_over, y_train_over)\n",
    "model_dt_over = dt_pipeline.fit(X_train_over, y_train_over)"
   ]
  },
  {
   "cell_type": "code",
   "execution_count": 28,
   "metadata": {},
   "outputs": [],
   "source": [
    "# pictionary of decision tree classifiers\n",
    "dt_models={\"DTRegular\":model_dt_reg, \"DTUnder\":model_dt_under, \"DTOver\":model_dt_over}\n",
    "# dictionary of random forest classifiers\n",
    "rf_models = {\"RFRegular\":model_rf_reg, \"RFUnder\":model_rf_under, \"RFOver\":model_rf_over}\n",
    "# dictionary of gradient boosting classifiers\n",
    "gbdt_models = {\"GBDTRegular\":model_gbdt_reg, \"GBDTUnder\":model_gbdt_under, \"GBDTOver\":model_gbdt_over}"
   ]
  },
  {
   "cell_type": "code",
   "execution_count": 29,
   "metadata": {},
   "outputs": [
    {
     "name": "stdout",
     "output_type": "stream",
     "text": [
      "DTRegular Training Accuracy: 1.0\n",
      "DTRegular Validation Accuracy: 0.9418\n",
      "DTUnder Training Accuracy: 1.0\n",
      "DTUnder Validation Accuracy: 0.9418\n",
      "DTOver Training Accuracy: 1.0\n",
      "DTOver Validation Accuracy: 0.9418\n"
     ]
    }
   ],
   "source": [
    "# iterate through dt models\n",
    "for name, model in dt_models.items():\n",
    "    # calaculate training accuracy\n",
    "    acc_train = model.score(X_train,y_train)\n",
    "    # calculate validation accuracy\n",
    "    acc_val = model.score(X_val,y_val)\n",
    "\n",
    "    print(\"{} Training Accuracy: {}\".format(name, round(acc_train, 4)))\n",
    "    print(\"{} Validation Accuracy: {}\".format(name, round(acc_val, 4)))"
   ]
  },
  {
   "cell_type": "code",
   "execution_count": 30,
   "metadata": {},
   "outputs": [
    {
     "name": "stdout",
     "output_type": "stream",
     "text": [
      "RFRegular Training Accuracy: 1.0\n",
      "RFRegular Validation Accuracy: 0.9606\n",
      "RFUnder Training Accuracy: 1.0\n",
      "RFUnder Validation Accuracy: 0.9606\n",
      "RFOver Training Accuracy: 1.0\n",
      "RFOver Validation Accuracy: 0.9606\n"
     ]
    }
   ],
   "source": [
    "# iterate through rf models\n",
    "for name, model in rf_models.items():\n",
    "    # calaculate training accuracy\n",
    "    acc_train = model.score(X_train,y_train)\n",
    "    # calculate validation accuracy\n",
    "    acc_val = model.score(X_val,y_val)\n",
    "\n",
    "    print(\"{} Training Accuracy: {}\".format(name, round(acc_train, 4)))\n",
    "    print(\"{} Validation Accuracy: {}\".format(name, round(acc_val, 4)))"
   ]
  },
  {
   "cell_type": "code",
   "execution_count": 31,
   "metadata": {},
   "outputs": [
    {
     "name": "stdout",
     "output_type": "stream",
     "text": [
      "GBDTRegular Training Accuracy: 0.9334\n",
      "GBDTRegular Validation Accuracy: 0.9098\n",
      "GBDTUnder Training Accuracy: 0.9334\n",
      "GBDTUnder Validation Accuracy: 0.9098\n",
      "GBDTOver Training Accuracy: 0.9334\n",
      "GBDTOver Validation Accuracy: 0.9098\n"
     ]
    }
   ],
   "source": [
    "# iterate through the gbdt models\n",
    "for name, model in gbdt_models.items():\n",
    "    # calaculate training accuracy\n",
    "    acc_train = model.score(X_train,y_train)\n",
    "    # calculate validation accuracy\n",
    "    acc_val = model.score(X_val,y_val)\n",
    "\n",
    "    print(\"{} Training Accuracy: {}\".format(name, round(acc_train, 4)))\n",
    "    print(\"{} Validation Accuracy: {}\".format(name, round(acc_val, 4)))"
   ]
  },
  {
   "attachments": {},
   "cell_type": "markdown",
   "metadata": {},
   "source": [
    "#### Final classifier"
   ]
  },
  {
   "cell_type": "code",
   "execution_count": 32,
   "metadata": {},
   "outputs": [
    {
     "name": "stdout",
     "output_type": "stream",
     "text": [
      "Pipeline(steps=[('simpleimputer', SimpleImputer()),\n",
      "                ('gradientboostingclassifier',\n",
      "                 GradientBoostingClassifier(random_state=42))])\n"
     ]
    }
   ],
   "source": [
    "# make final best performing classifier\n",
    "clf = make_pipeline(\n",
    "    SimpleImputer(), GradientBoostingClassifier(random_state=42)\n",
    ")\n",
    "print(clf)"
   ]
  },
  {
   "attachments": {},
   "cell_type": "markdown",
   "metadata": {},
   "source": [
    "#### Cross validation"
   ]
  },
  {
   "cell_type": "code",
   "execution_count": 33,
   "metadata": {},
   "outputs": [
    {
     "name": "stdout",
     "output_type": "stream",
     "text": [
      "[0.94816948 0.94775812 0.94611271 0.93377211 0.94526749]\n"
     ]
    }
   ],
   "source": [
    "# perform cross validation\n",
    "cv_scores = cross_val_score(clf,X_train_over, y_train_over,cv=5, n_jobs=-1)\n",
    "print(cv_scores)"
   ]
  },
  {
   "attachments": {},
   "cell_type": "markdown",
   "metadata": {},
   "source": [
    "#### Hyperparameter Tuning"
   ]
  },
  {
   "cell_type": "code",
   "execution_count": 34,
   "metadata": {},
   "outputs": [
    {
     "data": {
      "text/plain": [
       "{'simpleimputer__strategy': ['mean', 'median'],\n",
       " 'gradientboostingclassifier__max_depth': range(2, 5),\n",
       " 'gradientboostingclassifier__n_estimators': range(10, 31, 5)}"
      ]
     },
     "execution_count": 34,
     "metadata": {},
     "output_type": "execute_result"
    }
   ],
   "source": [
    "\n",
    "# define hyper parameters\n",
    "params = {\n",
    "    \"simpleimputer__strategy\":[\"mean\",\"median\"], \n",
    "    \"gradientboostingclassifier__max_depth\":range(2,5), \n",
    "    \"gradientboostingclassifier__n_estimators\":range(10,31,5)\n",
    "    }\n",
    "params"
   ]
  },
  {
   "cell_type": "code",
   "execution_count": 35,
   "metadata": {},
   "outputs": [
    {
     "data": {
      "text/html": [
       "<style>#sk-container-id-4 {color: black;background-color: white;}#sk-container-id-4 pre{padding: 0;}#sk-container-id-4 div.sk-toggleable {background-color: white;}#sk-container-id-4 label.sk-toggleable__label {cursor: pointer;display: block;width: 100%;margin-bottom: 0;padding: 0.3em;box-sizing: border-box;text-align: center;}#sk-container-id-4 label.sk-toggleable__label-arrow:before {content: \"▸\";float: left;margin-right: 0.25em;color: #696969;}#sk-container-id-4 label.sk-toggleable__label-arrow:hover:before {color: black;}#sk-container-id-4 div.sk-estimator:hover label.sk-toggleable__label-arrow:before {color: black;}#sk-container-id-4 div.sk-toggleable__content {max-height: 0;max-width: 0;overflow: hidden;text-align: left;background-color: #f0f8ff;}#sk-container-id-4 div.sk-toggleable__content pre {margin: 0.2em;color: black;border-radius: 0.25em;background-color: #f0f8ff;}#sk-container-id-4 input.sk-toggleable__control:checked~div.sk-toggleable__content {max-height: 200px;max-width: 100%;overflow: auto;}#sk-container-id-4 input.sk-toggleable__control:checked~label.sk-toggleable__label-arrow:before {content: \"▾\";}#sk-container-id-4 div.sk-estimator input.sk-toggleable__control:checked~label.sk-toggleable__label {background-color: #d4ebff;}#sk-container-id-4 div.sk-label input.sk-toggleable__control:checked~label.sk-toggleable__label {background-color: #d4ebff;}#sk-container-id-4 input.sk-hidden--visually {border: 0;clip: rect(1px 1px 1px 1px);clip: rect(1px, 1px, 1px, 1px);height: 1px;margin: -1px;overflow: hidden;padding: 0;position: absolute;width: 1px;}#sk-container-id-4 div.sk-estimator {font-family: monospace;background-color: #f0f8ff;border: 1px dotted black;border-radius: 0.25em;box-sizing: border-box;margin-bottom: 0.5em;}#sk-container-id-4 div.sk-estimator:hover {background-color: #d4ebff;}#sk-container-id-4 div.sk-parallel-item::after {content: \"\";width: 100%;border-bottom: 1px solid gray;flex-grow: 1;}#sk-container-id-4 div.sk-label:hover label.sk-toggleable__label {background-color: #d4ebff;}#sk-container-id-4 div.sk-serial::before {content: \"\";position: absolute;border-left: 1px solid gray;box-sizing: border-box;top: 0;bottom: 0;left: 50%;z-index: 0;}#sk-container-id-4 div.sk-serial {display: flex;flex-direction: column;align-items: center;background-color: white;padding-right: 0.2em;padding-left: 0.2em;position: relative;}#sk-container-id-4 div.sk-item {position: relative;z-index: 1;}#sk-container-id-4 div.sk-parallel {display: flex;align-items: stretch;justify-content: center;background-color: white;position: relative;}#sk-container-id-4 div.sk-item::before, #sk-container-id-4 div.sk-parallel-item::before {content: \"\";position: absolute;border-left: 1px solid gray;box-sizing: border-box;top: 0;bottom: 0;left: 50%;z-index: -1;}#sk-container-id-4 div.sk-parallel-item {display: flex;flex-direction: column;z-index: 1;position: relative;background-color: white;}#sk-container-id-4 div.sk-parallel-item:first-child::after {align-self: flex-end;width: 50%;}#sk-container-id-4 div.sk-parallel-item:last-child::after {align-self: flex-start;width: 50%;}#sk-container-id-4 div.sk-parallel-item:only-child::after {width: 0;}#sk-container-id-4 div.sk-dashed-wrapped {border: 1px dashed gray;margin: 0 0.4em 0.5em 0.4em;box-sizing: border-box;padding-bottom: 0.4em;background-color: white;}#sk-container-id-4 div.sk-label label {font-family: monospace;font-weight: bold;display: inline-block;line-height: 1.2em;}#sk-container-id-4 div.sk-label-container {text-align: center;}#sk-container-id-4 div.sk-container {/* jupyter's `normalize.less` sets `[hidden] { display: none; }` but bootstrap.min.css set `[hidden] { display: none !important; }` so we also need the `!important` here to be able to override the default hidden behavior on the sphinx rendered scikit-learn.org. See: https://github.com/scikit-learn/scikit-learn/issues/21755 */display: inline-block !important;position: relative;}#sk-container-id-4 div.sk-text-repr-fallback {display: none;}</style><div id=\"sk-container-id-4\" class=\"sk-top-container\"><div class=\"sk-text-repr-fallback\"><pre>GridSearchCV(cv=5,\n",
       "             estimator=Pipeline(steps=[(&#x27;simpleimputer&#x27;, SimpleImputer()),\n",
       "                                       (&#x27;gradientboostingclassifier&#x27;,\n",
       "                                        GradientBoostingClassifier(random_state=42))]),\n",
       "             n_jobs=-1,\n",
       "             param_grid={&#x27;gradientboostingclassifier__max_depth&#x27;: range(2, 5),\n",
       "                         &#x27;gradientboostingclassifier__n_estimators&#x27;: range(10, 31, 5),\n",
       "                         &#x27;simpleimputer__strategy&#x27;: [&#x27;mean&#x27;, &#x27;median&#x27;]},\n",
       "             verbose=1)</pre><b>In a Jupyter environment, please rerun this cell to show the HTML representation or trust the notebook. <br />On GitHub, the HTML representation is unable to render, please try loading this page with nbviewer.org.</b></div><div class=\"sk-container\" hidden><div class=\"sk-item sk-dashed-wrapped\"><div class=\"sk-label-container\"><div class=\"sk-label sk-toggleable\"><input class=\"sk-toggleable__control sk-hidden--visually\" id=\"sk-estimator-id-10\" type=\"checkbox\" ><label for=\"sk-estimator-id-10\" class=\"sk-toggleable__label sk-toggleable__label-arrow\">GridSearchCV</label><div class=\"sk-toggleable__content\"><pre>GridSearchCV(cv=5,\n",
       "             estimator=Pipeline(steps=[(&#x27;simpleimputer&#x27;, SimpleImputer()),\n",
       "                                       (&#x27;gradientboostingclassifier&#x27;,\n",
       "                                        GradientBoostingClassifier(random_state=42))]),\n",
       "             n_jobs=-1,\n",
       "             param_grid={&#x27;gradientboostingclassifier__max_depth&#x27;: range(2, 5),\n",
       "                         &#x27;gradientboostingclassifier__n_estimators&#x27;: range(10, 31, 5),\n",
       "                         &#x27;simpleimputer__strategy&#x27;: [&#x27;mean&#x27;, &#x27;median&#x27;]},\n",
       "             verbose=1)</pre></div></div></div><div class=\"sk-parallel\"><div class=\"sk-parallel-item\"><div class=\"sk-item\"><div class=\"sk-label-container\"><div class=\"sk-label sk-toggleable\"><input class=\"sk-toggleable__control sk-hidden--visually\" id=\"sk-estimator-id-11\" type=\"checkbox\" ><label for=\"sk-estimator-id-11\" class=\"sk-toggleable__label sk-toggleable__label-arrow\">estimator: Pipeline</label><div class=\"sk-toggleable__content\"><pre>Pipeline(steps=[(&#x27;simpleimputer&#x27;, SimpleImputer()),\n",
       "                (&#x27;gradientboostingclassifier&#x27;,\n",
       "                 GradientBoostingClassifier(random_state=42))])</pre></div></div></div><div class=\"sk-serial\"><div class=\"sk-item\"><div class=\"sk-serial\"><div class=\"sk-item\"><div class=\"sk-estimator sk-toggleable\"><input class=\"sk-toggleable__control sk-hidden--visually\" id=\"sk-estimator-id-12\" type=\"checkbox\" ><label for=\"sk-estimator-id-12\" class=\"sk-toggleable__label sk-toggleable__label-arrow\">SimpleImputer</label><div class=\"sk-toggleable__content\"><pre>SimpleImputer()</pre></div></div></div><div class=\"sk-item\"><div class=\"sk-estimator sk-toggleable\"><input class=\"sk-toggleable__control sk-hidden--visually\" id=\"sk-estimator-id-13\" type=\"checkbox\" ><label for=\"sk-estimator-id-13\" class=\"sk-toggleable__label sk-toggleable__label-arrow\">GradientBoostingClassifier</label><div class=\"sk-toggleable__content\"><pre>GradientBoostingClassifier(random_state=42)</pre></div></div></div></div></div></div></div></div></div></div></div></div>"
      ],
      "text/plain": [
       "GridSearchCV(cv=5,\n",
       "             estimator=Pipeline(steps=[('simpleimputer', SimpleImputer()),\n",
       "                                       ('gradientboostingclassifier',\n",
       "                                        GradientBoostingClassifier(random_state=42))]),\n",
       "             n_jobs=-1,\n",
       "             param_grid={'gradientboostingclassifier__max_depth': range(2, 5),\n",
       "                         'gradientboostingclassifier__n_estimators': range(10, 31, 5),\n",
       "                         'simpleimputer__strategy': ['mean', 'median']},\n",
       "             verbose=1)"
      ]
     },
     "execution_count": 35,
     "metadata": {},
     "output_type": "execute_result"
    }
   ],
   "source": [
    "# perform gridsearchCV\n",
    "model = GridSearchCV(clf, param_grid=params, cv=5, n_jobs=-1, verbose=1)\n",
    "model"
   ]
  },
  {
   "cell_type": "code",
   "execution_count": 36,
   "metadata": {},
   "outputs": [
    {
     "name": "stdout",
     "output_type": "stream",
     "text": [
      "Fitting 5 folds for each of 30 candidates, totalling 150 fits\n"
     ]
    },
    {
     "data": {
      "text/html": [
       "<style>#sk-container-id-5 {color: black;background-color: white;}#sk-container-id-5 pre{padding: 0;}#sk-container-id-5 div.sk-toggleable {background-color: white;}#sk-container-id-5 label.sk-toggleable__label {cursor: pointer;display: block;width: 100%;margin-bottom: 0;padding: 0.3em;box-sizing: border-box;text-align: center;}#sk-container-id-5 label.sk-toggleable__label-arrow:before {content: \"▸\";float: left;margin-right: 0.25em;color: #696969;}#sk-container-id-5 label.sk-toggleable__label-arrow:hover:before {color: black;}#sk-container-id-5 div.sk-estimator:hover label.sk-toggleable__label-arrow:before {color: black;}#sk-container-id-5 div.sk-toggleable__content {max-height: 0;max-width: 0;overflow: hidden;text-align: left;background-color: #f0f8ff;}#sk-container-id-5 div.sk-toggleable__content pre {margin: 0.2em;color: black;border-radius: 0.25em;background-color: #f0f8ff;}#sk-container-id-5 input.sk-toggleable__control:checked~div.sk-toggleable__content {max-height: 200px;max-width: 100%;overflow: auto;}#sk-container-id-5 input.sk-toggleable__control:checked~label.sk-toggleable__label-arrow:before {content: \"▾\";}#sk-container-id-5 div.sk-estimator input.sk-toggleable__control:checked~label.sk-toggleable__label {background-color: #d4ebff;}#sk-container-id-5 div.sk-label input.sk-toggleable__control:checked~label.sk-toggleable__label {background-color: #d4ebff;}#sk-container-id-5 input.sk-hidden--visually {border: 0;clip: rect(1px 1px 1px 1px);clip: rect(1px, 1px, 1px, 1px);height: 1px;margin: -1px;overflow: hidden;padding: 0;position: absolute;width: 1px;}#sk-container-id-5 div.sk-estimator {font-family: monospace;background-color: #f0f8ff;border: 1px dotted black;border-radius: 0.25em;box-sizing: border-box;margin-bottom: 0.5em;}#sk-container-id-5 div.sk-estimator:hover {background-color: #d4ebff;}#sk-container-id-5 div.sk-parallel-item::after {content: \"\";width: 100%;border-bottom: 1px solid gray;flex-grow: 1;}#sk-container-id-5 div.sk-label:hover label.sk-toggleable__label {background-color: #d4ebff;}#sk-container-id-5 div.sk-serial::before {content: \"\";position: absolute;border-left: 1px solid gray;box-sizing: border-box;top: 0;bottom: 0;left: 50%;z-index: 0;}#sk-container-id-5 div.sk-serial {display: flex;flex-direction: column;align-items: center;background-color: white;padding-right: 0.2em;padding-left: 0.2em;position: relative;}#sk-container-id-5 div.sk-item {position: relative;z-index: 1;}#sk-container-id-5 div.sk-parallel {display: flex;align-items: stretch;justify-content: center;background-color: white;position: relative;}#sk-container-id-5 div.sk-item::before, #sk-container-id-5 div.sk-parallel-item::before {content: \"\";position: absolute;border-left: 1px solid gray;box-sizing: border-box;top: 0;bottom: 0;left: 50%;z-index: -1;}#sk-container-id-5 div.sk-parallel-item {display: flex;flex-direction: column;z-index: 1;position: relative;background-color: white;}#sk-container-id-5 div.sk-parallel-item:first-child::after {align-self: flex-end;width: 50%;}#sk-container-id-5 div.sk-parallel-item:last-child::after {align-self: flex-start;width: 50%;}#sk-container-id-5 div.sk-parallel-item:only-child::after {width: 0;}#sk-container-id-5 div.sk-dashed-wrapped {border: 1px dashed gray;margin: 0 0.4em 0.5em 0.4em;box-sizing: border-box;padding-bottom: 0.4em;background-color: white;}#sk-container-id-5 div.sk-label label {font-family: monospace;font-weight: bold;display: inline-block;line-height: 1.2em;}#sk-container-id-5 div.sk-label-container {text-align: center;}#sk-container-id-5 div.sk-container {/* jupyter's `normalize.less` sets `[hidden] { display: none; }` but bootstrap.min.css set `[hidden] { display: none !important; }` so we also need the `!important` here to be able to override the default hidden behavior on the sphinx rendered scikit-learn.org. See: https://github.com/scikit-learn/scikit-learn/issues/21755 */display: inline-block !important;position: relative;}#sk-container-id-5 div.sk-text-repr-fallback {display: none;}</style><div id=\"sk-container-id-5\" class=\"sk-top-container\"><div class=\"sk-text-repr-fallback\"><pre>GridSearchCV(cv=5,\n",
       "             estimator=Pipeline(steps=[(&#x27;simpleimputer&#x27;, SimpleImputer()),\n",
       "                                       (&#x27;gradientboostingclassifier&#x27;,\n",
       "                                        GradientBoostingClassifier(random_state=42))]),\n",
       "             n_jobs=-1,\n",
       "             param_grid={&#x27;gradientboostingclassifier__max_depth&#x27;: range(2, 5),\n",
       "                         &#x27;gradientboostingclassifier__n_estimators&#x27;: range(10, 31, 5),\n",
       "                         &#x27;simpleimputer__strategy&#x27;: [&#x27;mean&#x27;, &#x27;median&#x27;]},\n",
       "             verbose=1)</pre><b>In a Jupyter environment, please rerun this cell to show the HTML representation or trust the notebook. <br />On GitHub, the HTML representation is unable to render, please try loading this page with nbviewer.org.</b></div><div class=\"sk-container\" hidden><div class=\"sk-item sk-dashed-wrapped\"><div class=\"sk-label-container\"><div class=\"sk-label sk-toggleable\"><input class=\"sk-toggleable__control sk-hidden--visually\" id=\"sk-estimator-id-14\" type=\"checkbox\" ><label for=\"sk-estimator-id-14\" class=\"sk-toggleable__label sk-toggleable__label-arrow\">GridSearchCV</label><div class=\"sk-toggleable__content\"><pre>GridSearchCV(cv=5,\n",
       "             estimator=Pipeline(steps=[(&#x27;simpleimputer&#x27;, SimpleImputer()),\n",
       "                                       (&#x27;gradientboostingclassifier&#x27;,\n",
       "                                        GradientBoostingClassifier(random_state=42))]),\n",
       "             n_jobs=-1,\n",
       "             param_grid={&#x27;gradientboostingclassifier__max_depth&#x27;: range(2, 5),\n",
       "                         &#x27;gradientboostingclassifier__n_estimators&#x27;: range(10, 31, 5),\n",
       "                         &#x27;simpleimputer__strategy&#x27;: [&#x27;mean&#x27;, &#x27;median&#x27;]},\n",
       "             verbose=1)</pre></div></div></div><div class=\"sk-parallel\"><div class=\"sk-parallel-item\"><div class=\"sk-item\"><div class=\"sk-label-container\"><div class=\"sk-label sk-toggleable\"><input class=\"sk-toggleable__control sk-hidden--visually\" id=\"sk-estimator-id-15\" type=\"checkbox\" ><label for=\"sk-estimator-id-15\" class=\"sk-toggleable__label sk-toggleable__label-arrow\">estimator: Pipeline</label><div class=\"sk-toggleable__content\"><pre>Pipeline(steps=[(&#x27;simpleimputer&#x27;, SimpleImputer()),\n",
       "                (&#x27;gradientboostingclassifier&#x27;,\n",
       "                 GradientBoostingClassifier(random_state=42))])</pre></div></div></div><div class=\"sk-serial\"><div class=\"sk-item\"><div class=\"sk-serial\"><div class=\"sk-item\"><div class=\"sk-estimator sk-toggleable\"><input class=\"sk-toggleable__control sk-hidden--visually\" id=\"sk-estimator-id-16\" type=\"checkbox\" ><label for=\"sk-estimator-id-16\" class=\"sk-toggleable__label sk-toggleable__label-arrow\">SimpleImputer</label><div class=\"sk-toggleable__content\"><pre>SimpleImputer()</pre></div></div></div><div class=\"sk-item\"><div class=\"sk-estimator sk-toggleable\"><input class=\"sk-toggleable__control sk-hidden--visually\" id=\"sk-estimator-id-17\" type=\"checkbox\" ><label for=\"sk-estimator-id-17\" class=\"sk-toggleable__label sk-toggleable__label-arrow\">GradientBoostingClassifier</label><div class=\"sk-toggleable__content\"><pre>GradientBoostingClassifier(random_state=42)</pre></div></div></div></div></div></div></div></div></div></div></div></div>"
      ],
      "text/plain": [
       "GridSearchCV(cv=5,\n",
       "             estimator=Pipeline(steps=[('simpleimputer', SimpleImputer()),\n",
       "                                       ('gradientboostingclassifier',\n",
       "                                        GradientBoostingClassifier(random_state=42))]),\n",
       "             n_jobs=-1,\n",
       "             param_grid={'gradientboostingclassifier__max_depth': range(2, 5),\n",
       "                         'gradientboostingclassifier__n_estimators': range(10, 31, 5),\n",
       "                         'simpleimputer__strategy': ['mean', 'median']},\n",
       "             verbose=1)"
      ]
     },
     "execution_count": 36,
     "metadata": {},
     "output_type": "execute_result"
    }
   ],
   "source": [
    "# Train model\n",
    "model.fit(X_train_over, y_train_over)"
   ]
  },
  {
   "cell_type": "code",
   "execution_count": 37,
   "metadata": {},
   "outputs": [
    {
     "data": {
      "text/html": [
       "<div>\n",
       "<style scoped>\n",
       "    .dataframe tbody tr th:only-of-type {\n",
       "        vertical-align: middle;\n",
       "    }\n",
       "\n",
       "    .dataframe tbody tr th {\n",
       "        vertical-align: top;\n",
       "    }\n",
       "\n",
       "    .dataframe thead th {\n",
       "        text-align: right;\n",
       "    }\n",
       "</style>\n",
       "<table border=\"1\" class=\"dataframe\">\n",
       "  <thead>\n",
       "    <tr style=\"text-align: right;\">\n",
       "      <th></th>\n",
       "      <th>mean_fit_time</th>\n",
       "      <th>std_fit_time</th>\n",
       "      <th>mean_score_time</th>\n",
       "      <th>std_score_time</th>\n",
       "      <th>param_gradientboostingclassifier__max_depth</th>\n",
       "      <th>param_gradientboostingclassifier__n_estimators</th>\n",
       "      <th>param_simpleimputer__strategy</th>\n",
       "      <th>params</th>\n",
       "      <th>split0_test_score</th>\n",
       "      <th>split1_test_score</th>\n",
       "      <th>split2_test_score</th>\n",
       "      <th>split3_test_score</th>\n",
       "      <th>split4_test_score</th>\n",
       "      <th>mean_test_score</th>\n",
       "      <th>std_test_score</th>\n",
       "      <th>rank_test_score</th>\n",
       "    </tr>\n",
       "  </thead>\n",
       "  <tbody>\n",
       "    <tr>\n",
       "      <th>0</th>\n",
       "      <td>2.866509</td>\n",
       "      <td>0.081626</td>\n",
       "      <td>0.024137</td>\n",
       "      <td>0.006245</td>\n",
       "      <td>2</td>\n",
       "      <td>10</td>\n",
       "      <td>mean</td>\n",
       "      <td>{'gradientboostingclassifier__max_depth': 2, '...</td>\n",
       "      <td>0.756890</td>\n",
       "      <td>0.756890</td>\n",
       "      <td>0.763060</td>\n",
       "      <td>0.743316</td>\n",
       "      <td>0.767901</td>\n",
       "      <td>0.757612</td>\n",
       "      <td>0.008258</td>\n",
       "      <td>28</td>\n",
       "    </tr>\n",
       "    <tr>\n",
       "      <th>1</th>\n",
       "      <td>3.183447</td>\n",
       "      <td>0.185891</td>\n",
       "      <td>0.022490</td>\n",
       "      <td>0.007638</td>\n",
       "      <td>2</td>\n",
       "      <td>10</td>\n",
       "      <td>median</td>\n",
       "      <td>{'gradientboostingclassifier__max_depth': 2, '...</td>\n",
       "      <td>0.737145</td>\n",
       "      <td>0.742493</td>\n",
       "      <td>0.738379</td>\n",
       "      <td>0.734266</td>\n",
       "      <td>0.736626</td>\n",
       "      <td>0.737782</td>\n",
       "      <td>0.002708</td>\n",
       "      <td>30</td>\n",
       "    </tr>\n",
       "    <tr>\n",
       "      <th>2</th>\n",
       "      <td>4.170236</td>\n",
       "      <td>0.062910</td>\n",
       "      <td>0.028551</td>\n",
       "      <td>0.009398</td>\n",
       "      <td>2</td>\n",
       "      <td>15</td>\n",
       "      <td>mean</td>\n",
       "      <td>{'gradientboostingclassifier__max_depth': 2, '...</td>\n",
       "      <td>0.770465</td>\n",
       "      <td>0.775812</td>\n",
       "      <td>0.781160</td>\n",
       "      <td>0.753599</td>\n",
       "      <td>0.775720</td>\n",
       "      <td>0.771351</td>\n",
       "      <td>0.009499</td>\n",
       "      <td>26</td>\n",
       "    </tr>\n",
       "    <tr>\n",
       "      <th>3</th>\n",
       "      <td>4.573380</td>\n",
       "      <td>0.120022</td>\n",
       "      <td>0.018299</td>\n",
       "      <td>0.003789</td>\n",
       "      <td>2</td>\n",
       "      <td>15</td>\n",
       "      <td>median</td>\n",
       "      <td>{'gradientboostingclassifier__max_depth': 2, '...</td>\n",
       "      <td>0.741670</td>\n",
       "      <td>0.748252</td>\n",
       "      <td>0.756479</td>\n",
       "      <td>0.751131</td>\n",
       "      <td>0.752263</td>\n",
       "      <td>0.749959</td>\n",
       "      <td>0.004916</td>\n",
       "      <td>29</td>\n",
       "    </tr>\n",
       "    <tr>\n",
       "      <th>4</th>\n",
       "      <td>6.371622</td>\n",
       "      <td>0.285234</td>\n",
       "      <td>0.031172</td>\n",
       "      <td>0.009849</td>\n",
       "      <td>2</td>\n",
       "      <td>20</td>\n",
       "      <td>mean</td>\n",
       "      <td>{'gradientboostingclassifier__max_depth': 2, '...</td>\n",
       "      <td>0.779926</td>\n",
       "      <td>0.784039</td>\n",
       "      <td>0.793501</td>\n",
       "      <td>0.768408</td>\n",
       "      <td>0.793004</td>\n",
       "      <td>0.783776</td>\n",
       "      <td>0.009282</td>\n",
       "      <td>24</td>\n",
       "    </tr>\n",
       "    <tr>\n",
       "      <th>5</th>\n",
       "      <td>5.823337</td>\n",
       "      <td>0.134500</td>\n",
       "      <td>0.024113</td>\n",
       "      <td>0.003367</td>\n",
       "      <td>2</td>\n",
       "      <td>20</td>\n",
       "      <td>median</td>\n",
       "      <td>{'gradientboostingclassifier__max_depth': 2, '...</td>\n",
       "      <td>0.760181</td>\n",
       "      <td>0.763883</td>\n",
       "      <td>0.763060</td>\n",
       "      <td>0.751954</td>\n",
       "      <td>0.762963</td>\n",
       "      <td>0.760408</td>\n",
       "      <td>0.004408</td>\n",
       "      <td>27</td>\n",
       "    </tr>\n",
       "    <tr>\n",
       "      <th>6</th>\n",
       "      <td>6.752957</td>\n",
       "      <td>0.114523</td>\n",
       "      <td>0.026578</td>\n",
       "      <td>0.009762</td>\n",
       "      <td>2</td>\n",
       "      <td>25</td>\n",
       "      <td>mean</td>\n",
       "      <td>{'gradientboostingclassifier__max_depth': 2, '...</td>\n",
       "      <td>0.796791</td>\n",
       "      <td>0.803784</td>\n",
       "      <td>0.801316</td>\n",
       "      <td>0.788153</td>\n",
       "      <td>0.800412</td>\n",
       "      <td>0.798091</td>\n",
       "      <td>0.005453</td>\n",
       "      <td>22</td>\n",
       "    </tr>\n",
       "    <tr>\n",
       "      <th>7</th>\n",
       "      <td>7.267604</td>\n",
       "      <td>0.165282</td>\n",
       "      <td>0.024666</td>\n",
       "      <td>0.005271</td>\n",
       "      <td>2</td>\n",
       "      <td>25</td>\n",
       "      <td>median</td>\n",
       "      <td>{'gradientboostingclassifier__max_depth': 2, '...</td>\n",
       "      <td>0.772522</td>\n",
       "      <td>0.781571</td>\n",
       "      <td>0.769231</td>\n",
       "      <td>0.759770</td>\n",
       "      <td>0.774897</td>\n",
       "      <td>0.771598</td>\n",
       "      <td>0.007165</td>\n",
       "      <td>25</td>\n",
       "    </tr>\n",
       "    <tr>\n",
       "      <th>8</th>\n",
       "      <td>8.690305</td>\n",
       "      <td>0.187856</td>\n",
       "      <td>0.029174</td>\n",
       "      <td>0.012406</td>\n",
       "      <td>2</td>\n",
       "      <td>30</td>\n",
       "      <td>mean</td>\n",
       "      <td>{'gradientboostingclassifier__max_depth': 2, '...</td>\n",
       "      <td>0.810777</td>\n",
       "      <td>0.814891</td>\n",
       "      <td>0.813246</td>\n",
       "      <td>0.807487</td>\n",
       "      <td>0.819342</td>\n",
       "      <td>0.813148</td>\n",
       "      <td>0.003977</td>\n",
       "      <td>20</td>\n",
       "    </tr>\n",
       "    <tr>\n",
       "      <th>9</th>\n",
       "      <td>8.466951</td>\n",
       "      <td>0.179309</td>\n",
       "      <td>0.020284</td>\n",
       "      <td>0.003622</td>\n",
       "      <td>2</td>\n",
       "      <td>30</td>\n",
       "      <td>median</td>\n",
       "      <td>{'gradientboostingclassifier__max_depth': 2, '...</td>\n",
       "      <td>0.786919</td>\n",
       "      <td>0.787330</td>\n",
       "      <td>0.785274</td>\n",
       "      <td>0.779103</td>\n",
       "      <td>0.788889</td>\n",
       "      <td>0.785503</td>\n",
       "      <td>0.003401</td>\n",
       "      <td>23</td>\n",
       "    </tr>\n",
       "  </tbody>\n",
       "</table>\n",
       "</div>"
      ],
      "text/plain": [
       "   mean_fit_time  std_fit_time  mean_score_time  std_score_time  \\\n",
       "0       2.866509      0.081626         0.024137        0.006245   \n",
       "1       3.183447      0.185891         0.022490        0.007638   \n",
       "2       4.170236      0.062910         0.028551        0.009398   \n",
       "3       4.573380      0.120022         0.018299        0.003789   \n",
       "4       6.371622      0.285234         0.031172        0.009849   \n",
       "5       5.823337      0.134500         0.024113        0.003367   \n",
       "6       6.752957      0.114523         0.026578        0.009762   \n",
       "7       7.267604      0.165282         0.024666        0.005271   \n",
       "8       8.690305      0.187856         0.029174        0.012406   \n",
       "9       8.466951      0.179309         0.020284        0.003622   \n",
       "\n",
       "  param_gradientboostingclassifier__max_depth  \\\n",
       "0                                           2   \n",
       "1                                           2   \n",
       "2                                           2   \n",
       "3                                           2   \n",
       "4                                           2   \n",
       "5                                           2   \n",
       "6                                           2   \n",
       "7                                           2   \n",
       "8                                           2   \n",
       "9                                           2   \n",
       "\n",
       "  param_gradientboostingclassifier__n_estimators  \\\n",
       "0                                             10   \n",
       "1                                             10   \n",
       "2                                             15   \n",
       "3                                             15   \n",
       "4                                             20   \n",
       "5                                             20   \n",
       "6                                             25   \n",
       "7                                             25   \n",
       "8                                             30   \n",
       "9                                             30   \n",
       "\n",
       "  param_simpleimputer__strategy  \\\n",
       "0                          mean   \n",
       "1                        median   \n",
       "2                          mean   \n",
       "3                        median   \n",
       "4                          mean   \n",
       "5                        median   \n",
       "6                          mean   \n",
       "7                        median   \n",
       "8                          mean   \n",
       "9                        median   \n",
       "\n",
       "                                              params  split0_test_score  \\\n",
       "0  {'gradientboostingclassifier__max_depth': 2, '...           0.756890   \n",
       "1  {'gradientboostingclassifier__max_depth': 2, '...           0.737145   \n",
       "2  {'gradientboostingclassifier__max_depth': 2, '...           0.770465   \n",
       "3  {'gradientboostingclassifier__max_depth': 2, '...           0.741670   \n",
       "4  {'gradientboostingclassifier__max_depth': 2, '...           0.779926   \n",
       "5  {'gradientboostingclassifier__max_depth': 2, '...           0.760181   \n",
       "6  {'gradientboostingclassifier__max_depth': 2, '...           0.796791   \n",
       "7  {'gradientboostingclassifier__max_depth': 2, '...           0.772522   \n",
       "8  {'gradientboostingclassifier__max_depth': 2, '...           0.810777   \n",
       "9  {'gradientboostingclassifier__max_depth': 2, '...           0.786919   \n",
       "\n",
       "   split1_test_score  split2_test_score  split3_test_score  split4_test_score  \\\n",
       "0           0.756890           0.763060           0.743316           0.767901   \n",
       "1           0.742493           0.738379           0.734266           0.736626   \n",
       "2           0.775812           0.781160           0.753599           0.775720   \n",
       "3           0.748252           0.756479           0.751131           0.752263   \n",
       "4           0.784039           0.793501           0.768408           0.793004   \n",
       "5           0.763883           0.763060           0.751954           0.762963   \n",
       "6           0.803784           0.801316           0.788153           0.800412   \n",
       "7           0.781571           0.769231           0.759770           0.774897   \n",
       "8           0.814891           0.813246           0.807487           0.819342   \n",
       "9           0.787330           0.785274           0.779103           0.788889   \n",
       "\n",
       "   mean_test_score  std_test_score  rank_test_score  \n",
       "0         0.757612        0.008258               28  \n",
       "1         0.737782        0.002708               30  \n",
       "2         0.771351        0.009499               26  \n",
       "3         0.749959        0.004916               29  \n",
       "4         0.783776        0.009282               24  \n",
       "5         0.760408        0.004408               27  \n",
       "6         0.798091        0.005453               22  \n",
       "7         0.771598        0.007165               25  \n",
       "8         0.813148        0.003977               20  \n",
       "9         0.785503        0.003401               23  "
      ]
     },
     "execution_count": 37,
     "metadata": {},
     "output_type": "execute_result"
    }
   ],
   "source": [
    "# create dataframe of cross validation results\n",
    "cv_results = pd.DataFrame(model.cv_results_)\n",
    "cv_results.head(10)"
   ]
  },
  {
   "cell_type": "code",
   "execution_count": 38,
   "metadata": {},
   "outputs": [
    {
     "name": "stdout",
     "output_type": "stream",
     "text": [
      "{'gradientboostingclassifier__max_depth': 4, 'gradientboostingclassifier__n_estimators': 30, 'simpleimputer__strategy': 'mean'}\n"
     ]
    }
   ],
   "source": [
    "# show best parameters\n",
    "best_params = model.best_params_\n",
    "print(best_params)"
   ]
  },
  {
   "attachments": {},
   "cell_type": "markdown",
   "metadata": {},
   "source": [
    "### Evaluate"
   ]
  },
  {
   "cell_type": "code",
   "execution_count": 39,
   "metadata": {},
   "outputs": [
    {
     "name": "stdout",
     "output_type": "stream",
     "text": [
      "Training Accuracy: 0.9106\n",
      "Test Accuracy: 0.8888\n"
     ]
    }
   ],
   "source": [
    "# Evaluate on test set\n",
    "acc_train = model.score(X_train,y_train)\n",
    "acc_test = model.score(X_test,y_test)\n",
    "\n",
    "print(\"Training Accuracy:\", round(acc_train, 4))\n",
    "print(\"Test Accuracy:\", round(acc_test, 4))"
   ]
  },
  {
   "cell_type": "code",
   "execution_count": 40,
   "metadata": {},
   "outputs": [
    {
     "data": {
      "image/png": "[encoded data removed]",
      "text/plain": [
       "<Figure size 640x480 with 2 Axes>"
      ]
     },
     "metadata": {},
     "output_type": "display_data"
    }
   ],
   "source": [
    "# Plot confusion matrix\n",
    "ConfusionMatrixDisplay.from_estimator(model, X_test, y_test);\n"
   ]
  },
  {
   "cell_type": "code",
   "execution_count": 41,
   "metadata": {},
   "outputs": [
    {
     "name": "stdout",
     "output_type": "stream",
     "text": [
      "              precision    recall  f1-score   support\n",
      "\n",
      "       False       0.99      0.90      0.94      1913\n",
      "        True       0.23      0.70      0.34        83\n",
      "\n",
      "    accuracy                           0.89      1996\n",
      "   macro avg       0.61      0.80      0.64      1996\n",
      "weighted avg       0.95      0.89      0.91      1996\n",
      "\n"
     ]
    }
   ],
   "source": [
    "# generate classification report\n",
    "class_report = classification_report(y_test, model.predict(X_test))\n",
    "print(class_report)"
   ]
  },
  {
   "attachments": {},
   "cell_type": "markdown",
   "metadata": {},
   "source": [
    "## Communication"
   ]
  },
  {
   "attachments": {},
   "cell_type": "markdown",
   "metadata": {},
   "source": [
    "### Feature Importance"
   ]
  },
  {
   "cell_type": "code",
   "execution_count": 42,
   "metadata": {},
   "outputs": [
    {
     "data": {
      "text/plain": [
       "Text(0.5, 1.0, 'Feature Importance')"
      ]
     },
     "execution_count": 42,
     "metadata": {},
     "output_type": "execute_result"
    },
    {
     "data": {
      "image/png": "[encoded data removed]",
      "text/plain": [
       "<Figure size 640x480 with 1 Axes>"
      ]
     },
     "metadata": {},
     "output_type": "display_data"
    }
   ],
   "source": [
    "# Get feature names from training data\n",
    "features = X_train.columns\n",
    "# Extract importances from model\n",
    "importances = model.best_estimator_.named_steps['gradientboostingclassifier'].feature_importances_\n",
    "# Create a series with feature names and importances\n",
    "feat_imp = pd.Series(importances, index=features).sort_values()\n",
    "# Plot 10 most important features\n",
    "feat_imp.tail(10).plot(kind=\"barh\")\n",
    "plt.xlabel(\"Gini Importance\")\n",
    "plt.ylabel(\"Feature\")\n",
    "plt.title(\"Feature Importance\")"
   ]
  },
  {
   "attachments": {},
   "cell_type": "markdown",
   "metadata": {},
   "source": [
    "### Save Model"
   ]
  },
  {
   "cell_type": "code",
   "execution_count": 43,
   "metadata": {},
   "outputs": [],
   "source": [
    "# Save model\n",
    "with open(\"final_model.pkl\", 'wb') as f:\n",
    "    pickle.dump(model, f)"
   ]
  },
  {
   "attachments": {},
   "cell_type": "markdown",
   "metadata": {},
   "source": [
    "### Load Model"
   ]
  },
  {
   "cell_type": "code",
   "execution_count": 44,
   "metadata": {},
   "outputs": [
    {
     "name": "stdout",
     "output_type": "stream",
     "text": [
      "GridSearchCV(cv=5,\n",
      "             estimator=Pipeline(steps=[('simpleimputer', SimpleImputer()),\n",
      "                                       ('gradientboostingclassifier',\n",
      "                                        GradientBoostingClassifier(random_state=42))]),\n",
      "             n_jobs=-1,\n",
      "             param_grid={'gradientboostingclassifier__max_depth': range(2, 5),\n",
      "                         'gradientboostingclassifier__n_estimators': range(10, 31, 5),\n",
      "                         'simpleimputer__strategy': ['mean', 'median']},\n",
      "             verbose=1)\n"
     ]
    }
   ],
   "source": [
    "# Load `\"model-1.pkl\"`\n",
    "with open(\"final_model.pkl\",\"rb\") as f:\n",
    "    loaded_model = pickle.load(f)\n",
    "print(loaded_model)"
   ]
  }
 ],
 "metadata": {
  "kernelspec": {
   "display_name": "PyPractice",
   "language": "python",
   "name": "python3"
  },
  "language_info": {
   "codemirror_mode": {
    "name": "ipython",
    "version": 3
   },
   "file_extension": ".py",
   "mimetype": "text/x-python",
   "name": "python",
   "nbconvert_exporter": "python",
   "pygments_lexer": "ipython3",
   "version": "3.8.0"
  },
  "orig_nbformat": 4
 },
 "nbformat": 4,
 "nbformat_minor": 2
}
