{
 "cells": [
  {
   "attachments": {},
   "cell_type": "markdown",
   "metadata": {},
   "source": [
    "# Data Wrangling with SQL"
   ]
  },
  {
   "attachments": {},
   "cell_type": "markdown",
   "metadata": {},
   "source": [
    "## Prepare Data\n"
   ]
  },
  {
   "attachments": {},
   "cell_type": "markdown",
   "metadata": {},
   "source": [
    "### Connect"
   ]
  },
  {
   "cell_type": "code",
   "execution_count": 11,
   "metadata": {},
   "outputs": [],
   "source": [
    "# import libraries\n",
    "import sqlite3\n",
    "from sqlalchemy import create_engine\n",
    "from sqlalchemy import inspect\n",
    "import pandas as pd"
   ]
  },
  {
   "cell_type": "code",
   "execution_count": 2,
   "metadata": {},
   "outputs": [
    {
     "name": "stderr",
     "output_type": "stream",
     "text": [
      "/var/folders/t_/pmlbvsqs75j42mbfr3nngl940000gn/T/ipykernel_76885/3785335733.py:3: DtypeWarning: Columns (17,29,34,35,36,37,38,39,40,41,42,47,50) have mixed types. Specify dtype option on import or set low_memory=False.\n",
      "  building_damage = pd.read_csv('data/csv_building_damage_assessment.csv')\n"
     ]
    }
   ],
   "source": [
    "# Load data files\n",
    "building_structure = pd.read_csv('data/csv_building_structure.csv')\n",
    "building_damage = pd.read_csv('data/csv_building_damage_assessment.csv')\n",
    "household_demo = pd.read_csv('data/csv_household_demographics.csv')"
   ]
  },
  {
   "cell_type": "code",
   "execution_count": 3,
   "metadata": {},
   "outputs": [],
   "source": [
    "# create database\n",
    "connection = sqlite3.connect('nepal_earthquake.db')"
   ]
  },
  {
   "cell_type": "code",
   "execution_count": 4,
   "metadata": {},
   "outputs": [
    {
     "data": {
      "text/plain": [
       "747365"
      ]
     },
     "execution_count": 4,
     "metadata": {},
     "output_type": "execute_result"
    }
   ],
   "source": [
    "# load df tp sql db\n",
    "building_damage.to_sql('building_damage', connection, if_exists='replace')\n",
    "building_structure.to_sql('building_structure', connection, if_exists='replace')\n",
    "household_demo.to_sql('household_demo', connection, if_exists='replace')"
   ]
  },
  {
   "attachments": {},
   "cell_type": "markdown",
   "metadata": {},
   "source": [
    "### Explore"
   ]
  },
  {
   "cell_type": "code",
   "execution_count": 5,
   "metadata": {},
   "outputs": [],
   "source": [
    "# Create engine: engine\n",
    "engine = create_engine('sqlite:////Users/Blurryface/Documents/GitHub/Data_Science_Portfolio/4_Earthequake_Prediction/nepal_earthquake.db')\n",
    "\n",
    "# Inspect DB for list of table names\n",
    "insp = inspect(engine)"
   ]
  },
  {
   "cell_type": "code",
   "execution_count": 6,
   "metadata": {},
   "outputs": [
    {
     "name": "stdout",
     "output_type": "stream",
     "text": [
      "['building_damage', 'building_structure', 'household_demo']\n"
     ]
    }
   ],
   "source": [
    "# Save the table names to a list: table_names\n",
    "table_names = insp.get_table_names()\n",
    "\n",
    "# Print the table names to the shell\n",
    "print(table_names)"
   ]
  },
  {
   "cell_type": "code",
   "execution_count": 16,
   "metadata": {},
   "outputs": [
    {
     "name": "stdout",
     "output_type": "stream",
     "text": [
      "   index   building_id  district_id  vdcmun_id  ward_id  \\\n",
      "0      0  120101000011           12       1207   120703   \n",
      "1      1  120101000021           12       1207   120703   \n",
      "2      2  120101000031           12       1207   120703   \n",
      "3      3  120101000041           12       1207   120703   \n",
      "4      4  120101000051           12       1207   120703   \n",
      "\n",
      "  damage_overall_collapse damage_overall_leaning  \\\n",
      "0          Moderate-Heavy    Insignificant/light   \n",
      "1          Severe-Extreme         Severe-Extreme   \n",
      "2          Moderate-Heavy         Moderate-Heavy   \n",
      "3          Moderate-Heavy         Moderate-Heavy   \n",
      "4     Insignificant/light                   None   \n",
      "\n",
      "  damage_overall_adjacent_building_risk damage_foundation_severe  \\\n",
      "0                                  None                     None   \n",
      "1                   Insignificant/light    Severe-Extreme-(>2/3)   \n",
      "2                        Moderate-Heavy                     None   \n",
      "3                        Moderate-Heavy                     None   \n",
      "4                                  None                     None   \n",
      "\n",
      "  damage_foundation_moderate  ... has_damage_parapet  \\\n",
      "0      Moderate-Heavy-(<1/3)  ...                0.0   \n",
      "1                       None  ...                0.0   \n",
      "2      Moderate-Heavy-(>2/3)  ...                0.0   \n",
      "3      Moderate-Heavy-(>2/3)  ...                0.0   \n",
      "4                       None  ...                0.0   \n",
      "\n",
      "  has_damage_cladding_glazing has_geotechnical_risk  \\\n",
      "0                         0.0                   0.0   \n",
      "1                         0.0                   0.0   \n",
      "2                         0.0                   0.0   \n",
      "3                         0.0                   0.0   \n",
      "4                         0.0                   0.0   \n",
      "\n",
      "  has_geotechnical_risk_land_settlement has_geotechnical_risk_fault_crack  \\\n",
      "0                                     0                                 0   \n",
      "1                                     0                                 0   \n",
      "2                                     0                                 0   \n",
      "3                                     0                                 0   \n",
      "4                                     0                                 0   \n",
      "\n",
      "  has_geotechnical_risk_liquefaction has_geotechnical_risk_landslide  \\\n",
      "0                                  0                               0   \n",
      "1                                  0                               0   \n",
      "2                                  0                               0   \n",
      "3                                  0                               0   \n",
      "4                                  0                               0   \n",
      "\n",
      "  has_geotechnical_risk_rock_fall has_geotechnical_risk_flood  \\\n",
      "0                               0                           0   \n",
      "1                               0                           0   \n",
      "2                               0                           0   \n",
      "3                               0                           0   \n",
      "4                               0                           0   \n",
      "\n",
      "  has_geotechnical_risk_other  \n",
      "0                           0  \n",
      "1                           0  \n",
      "2                           0  \n",
      "3                           0  \n",
      "4                           0  \n",
      "\n",
      "[5 rows x 80 columns]\n"
     ]
    }
   ],
   "source": [
    "# Open engine in context manager\n",
    "# Perform query and save results to DataFrame: df\n",
    "with engine.connect() as con:\n",
    "    rs = con.execute(\"\"\"\n",
    "                 SELECT *\n",
    "                 FROM building_damage\n",
    "                 LIMIT 5\n",
    "                 \"\"\")\n",
    "    df = pd.DataFrame(rs.fetchall())\n",
    "    df.columns = rs.keys()\n",
    "\n",
    "# Print the head of the DataFrame df\n",
    "print(df.head())"
   ]
  },
  {
   "cell_type": "code",
   "execution_count": 18,
   "metadata": {},
   "outputs": [
    {
     "name": "stdout",
     "output_type": "stream",
     "text": [
      "   Number_of_Observations\n",
      "0                  762106\n"
     ]
    }
   ],
   "source": [
    "# Perform query and save results to DataFrame: df\n",
    "with engine.connect() as con:\n",
    "    rs = con.execute(\"\"\"\n",
    "                 SELECT COUNT(*) AS Number_of_Observations\n",
    "                 FROM building_damage\n",
    "                 \"\"\")\n",
    "    df = pd.DataFrame(rs.fetchall())\n",
    "    df.columns = rs.keys()\n",
    "\n",
    "# Print the head of the DataFrame df\n",
    "print(df.head())"
   ]
  },
  {
   "cell_type": "code",
   "execution_count": 24,
   "metadata": {},
   "outputs": [
    {
     "name": "stdout",
     "output_type": "stream",
     "text": [
      "   Unique_Districts\n",
      "0                12\n",
      "1                20\n",
      "2                21\n",
      "3                22\n",
      "4                23\n"
     ]
    }
   ],
   "source": [
    "# Perform query and save results to DataFrame: df\n",
    "with engine.connect() as con:\n",
    "    rs = con.execute(\"\"\"\n",
    "                 SELECT DISTINCT(district_id) AS Unique_Districts\n",
    "                 FROM building_damage\n",
    "                 \"\"\")\n",
    "    df = pd.DataFrame(rs.fetchall())\n",
    "    df.columns = rs.keys()\n",
    "\n",
    "# Print the head of the DataFrame df\n",
    "print(df.head())"
   ]
  },
  {
   "cell_type": "code",
   "execution_count": 23,
   "metadata": {},
   "outputs": [
    {
     "name": "stdout",
     "output_type": "stream",
     "text": [
      "   Number_Of_Unique_Buildings\n",
      "0                      762106\n"
     ]
    }
   ],
   "source": [
    "# Perform query and save results to DataFrame: df\n",
    "with engine.connect() as con:\n",
    "    rs = con.execute(\"\"\"\n",
    "                 SELECT COUNT(DISTINCT(building_id)) AS Number_Of_Unique_Buildings\n",
    "                 FROM building_damage\n",
    "                 \"\"\")\n",
    "    df = pd.DataFrame(rs.fetchall())\n",
    "    df.columns = rs.keys()\n",
    "\n",
    "# Print the head of the DataFrame df\n",
    "print(df.head())"
   ]
  },
  {
   "cell_type": "code",
   "execution_count": 26,
   "metadata": {},
   "outputs": [
    {
     "name": "stdout",
     "output_type": "stream",
     "text": [
      "   index   building_id  district_id  vdcmun_id  ward_id  \\\n",
      "0      0  120101000011           12       1207   120703   \n",
      "1      1  120101000021           12       1207   120703   \n",
      "2      2  120101000031           12       1207   120703   \n",
      "3      3  120101000041           12       1207   120703   \n",
      "4      4  120101000051           12       1207   120703   \n",
      "\n",
      "  damage_overall_collapse damage_overall_leaning  \\\n",
      "0          Moderate-Heavy    Insignificant/light   \n",
      "1          Severe-Extreme         Severe-Extreme   \n",
      "2          Moderate-Heavy         Moderate-Heavy   \n",
      "3          Moderate-Heavy         Moderate-Heavy   \n",
      "4     Insignificant/light                   None   \n",
      "\n",
      "  damage_overall_adjacent_building_risk damage_foundation_severe  \\\n",
      "0                                  None                     None   \n",
      "1                   Insignificant/light    Severe-Extreme-(>2/3)   \n",
      "2                        Moderate-Heavy                     None   \n",
      "3                        Moderate-Heavy                     None   \n",
      "4                                  None                     None   \n",
      "\n",
      "  damage_foundation_moderate  ... has_damage_parapet  \\\n",
      "0      Moderate-Heavy-(<1/3)  ...                0.0   \n",
      "1                       None  ...                0.0   \n",
      "2      Moderate-Heavy-(>2/3)  ...                0.0   \n",
      "3      Moderate-Heavy-(>2/3)  ...                0.0   \n",
      "4                       None  ...                0.0   \n",
      "\n",
      "  has_damage_cladding_glazing has_geotechnical_risk  \\\n",
      "0                         0.0                   0.0   \n",
      "1                         0.0                   0.0   \n",
      "2                         0.0                   0.0   \n",
      "3                         0.0                   0.0   \n",
      "4                         0.0                   0.0   \n",
      "\n",
      "  has_geotechnical_risk_land_settlement has_geotechnical_risk_fault_crack  \\\n",
      "0                                     0                                 0   \n",
      "1                                     0                                 0   \n",
      "2                                     0                                 0   \n",
      "3                                     0                                 0   \n",
      "4                                     0                                 0   \n",
      "\n",
      "  has_geotechnical_risk_liquefaction has_geotechnical_risk_landslide  \\\n",
      "0                                  0                               0   \n",
      "1                                  0                               0   \n",
      "2                                  0                               0   \n",
      "3                                  0                               0   \n",
      "4                                  0                               0   \n",
      "\n",
      "  has_geotechnical_risk_rock_fall has_geotechnical_risk_flood  \\\n",
      "0                               0                           0   \n",
      "1                               0                           0   \n",
      "2                               0                           0   \n",
      "3                               0                           0   \n",
      "4                               0                           0   \n",
      "\n",
      "  has_geotechnical_risk_other  \n",
      "0                           0  \n",
      "1                           0  \n",
      "2                           0  \n",
      "3                           0  \n",
      "4                           0  \n",
      "\n",
      "[5 rows x 80 columns]\n"
     ]
    }
   ],
   "source": [
    "# Show \n",
    "with engine.connect() as con:\n",
    "    rs = con.execute(\"\"\"\n",
    "                 SELECT *\n",
    "                 FROM building_damage\n",
    "                 WHERE district_id = 12\n",
    "                 LIMIT 5\n",
    "                 \"\"\")\n",
    "    df = pd.DataFrame(rs.fetchall())\n",
    "    df.columns = rs.keys()\n",
    "\n",
    "# Print the head of the DataFrame df\n",
    "print(df.head())"
   ]
  },
  {
   "cell_type": "code",
   "execution_count": null,
   "metadata": {},
   "outputs": [],
   "source": []
  }
 ],
 "metadata": {
  "kernelspec": {
   "display_name": "PyPractice",
   "language": "python",
   "name": "python3"
  },
  "language_info": {
   "codemirror_mode": {
    "name": "ipython",
    "version": 3
   },
   "file_extension": ".py",
   "mimetype": "text/x-python",
   "name": "python",
   "nbconvert_exporter": "python",
   "pygments_lexer": "ipython3",
   "version": "3.8.0"
  },
  "orig_nbformat": 4
 },
 "nbformat": 4,
 "nbformat_minor": 2
}
