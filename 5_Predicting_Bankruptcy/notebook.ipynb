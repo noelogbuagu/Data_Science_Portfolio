{
 "cells": [
  {
   "attachments": {},
   "cell_type": "markdown",
   "metadata": {},
   "source": [
    "# Predicting Bankruptcy in Poland"
   ]
  },
  {
   "cell_type": "code",
   "execution_count": 17,
   "metadata": {},
   "outputs": [],
   "source": [
    "import pandas as pd\n",
    "import seaborn as sns\n",
    "import matplotlib.pyplot as plt\n",
    "import json\n",
    "import gzip"
   ]
  },
  {
   "attachments": {},
   "cell_type": "markdown",
   "metadata": {},
   "source": [
    "## Prepare Data"
   ]
  },
  {
   "attachments": {},
   "cell_type": "markdown",
   "metadata": {},
   "source": [
    "### Open\n"
   ]
  },
  {
   "cell_type": "code",
   "execution_count": 18,
   "metadata": {},
   "outputs": [
    {
     "name": "stdout",
     "output_type": "stream",
     "text": [
      "<class 'dict'>\n"
     ]
    }
   ],
   "source": [
    "# Open compressed file, load into dictionary\n",
    "with gzip.open(\"data/poland-bankruptcy-data-2009.json.gz\", \"r\") as f:\n",
    "    poland_data = json.load(f)\n",
    "    \n",
    "print(type(poland_data))"
   ]
  },
  {
   "attachments": {},
   "cell_type": "markdown",
   "metadata": {},
   "source": [
    "### Explore"
   ]
  },
  {
   "cell_type": "code",
   "execution_count": 19,
   "metadata": {},
   "outputs": [
    {
     "data": {
      "text/plain": [
       "dict_keys(['schema', 'data', 'metadata'])"
      ]
     },
     "execution_count": 19,
     "metadata": {},
     "output_type": "execute_result"
    }
   ],
   "source": [
    "# get keys of JSON file\n",
    "poland_data.keys()"
   ]
  },
  {
   "cell_type": "code",
   "execution_count": 20,
   "metadata": {},
   "outputs": [
    {
     "data": {
      "text/plain": [
       "{'title': 'Ensemble Boosted Trees with Synthetic Features Generation in Application to Bankruptcy Prediction',\n",
       " 'authors': 'Zieba, M., Tomczak, S. K., & Tomczak, J. M.',\n",
       " 'journal': 'Expert Systems with Applications',\n",
       " 'publicationYear': 2016,\n",
       " 'dataYear': 2009,\n",
       " 'articleLink': 'doi:10.1016/j.eswa.2016.04.001',\n",
       " 'datasetLink': 'https://archive.ics.uci.edu/ml/datasets/Polish+companies+bankruptcy+data'}"
      ]
     },
     "execution_count": 20,
     "metadata": {},
     "output_type": "execute_result"
    }
   ],
   "source": [
    "# fet information about the data\n",
    "poland_data['metadata']"
   ]
  },
  {
   "cell_type": "code",
   "execution_count": 21,
   "metadata": {},
   "outputs": [
    {
     "data": {
      "text/plain": [
       "{'fields': [{'name': 'company_id', 'type': 'integer'},\n",
       "  {'name': 'feat_1', 'type': 'number'},\n",
       "  {'name': 'feat_2', 'type': 'number'},\n",
       "  {'name': 'feat_3', 'type': 'number'},\n",
       "  {'name': 'feat_4', 'type': 'number'},\n",
       "  {'name': 'feat_5', 'type': 'number'},\n",
       "  {'name': 'feat_6', 'type': 'number'},\n",
       "  {'name': 'feat_7', 'type': 'number'},\n",
       "  {'name': 'feat_8', 'type': 'number'},\n",
       "  {'name': 'feat_9', 'type': 'number'},\n",
       "  {'name': 'feat_10', 'type': 'number'},\n",
       "  {'name': 'feat_11', 'type': 'number'},\n",
       "  {'name': 'feat_12', 'type': 'number'},\n",
       "  {'name': 'feat_13', 'type': 'number'},\n",
       "  {'name': 'feat_14', 'type': 'number'},\n",
       "  {'name': 'feat_15', 'type': 'number'},\n",
       "  {'name': 'feat_16', 'type': 'number'},\n",
       "  {'name': 'feat_17', 'type': 'number'},\n",
       "  {'name': 'feat_18', 'type': 'number'},\n",
       "  {'name': 'feat_19', 'type': 'number'},\n",
       "  {'name': 'feat_20', 'type': 'number'},\n",
       "  {'name': 'feat_21', 'type': 'number'},\n",
       "  {'name': 'feat_22', 'type': 'number'},\n",
       "  {'name': 'feat_23', 'type': 'number'},\n",
       "  {'name': 'feat_24', 'type': 'number'},\n",
       "  {'name': 'feat_25', 'type': 'number'},\n",
       "  {'name': 'feat_26', 'type': 'number'},\n",
       "  {'name': 'feat_27', 'type': 'number'},\n",
       "  {'name': 'feat_28', 'type': 'number'},\n",
       "  {'name': 'feat_29', 'type': 'number'},\n",
       "  {'name': 'feat_30', 'type': 'number'},\n",
       "  {'name': 'feat_31', 'type': 'number'},\n",
       "  {'name': 'feat_32', 'type': 'number'},\n",
       "  {'name': 'feat_33', 'type': 'number'},\n",
       "  {'name': 'feat_34', 'type': 'number'},\n",
       "  {'name': 'feat_35', 'type': 'number'},\n",
       "  {'name': 'feat_36', 'type': 'number'},\n",
       "  {'name': 'feat_37', 'type': 'number'},\n",
       "  {'name': 'feat_38', 'type': 'number'},\n",
       "  {'name': 'feat_39', 'type': 'number'},\n",
       "  {'name': 'feat_40', 'type': 'number'},\n",
       "  {'name': 'feat_41', 'type': 'number'},\n",
       "  {'name': 'feat_42', 'type': 'number'},\n",
       "  {'name': 'feat_43', 'type': 'number'},\n",
       "  {'name': 'feat_44', 'type': 'number'},\n",
       "  {'name': 'feat_45', 'type': 'number'},\n",
       "  {'name': 'feat_46', 'type': 'number'},\n",
       "  {'name': 'feat_47', 'type': 'number'},\n",
       "  {'name': 'feat_48', 'type': 'number'},\n",
       "  {'name': 'feat_49', 'type': 'number'},\n",
       "  {'name': 'feat_50', 'type': 'number'},\n",
       "  {'name': 'feat_51', 'type': 'number'},\n",
       "  {'name': 'feat_52', 'type': 'number'},\n",
       "  {'name': 'feat_53', 'type': 'number'},\n",
       "  {'name': 'feat_54', 'type': 'number'},\n",
       "  {'name': 'feat_55', 'type': 'number'},\n",
       "  {'name': 'feat_56', 'type': 'number'},\n",
       "  {'name': 'feat_57', 'type': 'number'},\n",
       "  {'name': 'feat_58', 'type': 'number'},\n",
       "  {'name': 'feat_59', 'type': 'number'},\n",
       "  {'name': 'feat_60', 'type': 'number'},\n",
       "  {'name': 'feat_61', 'type': 'number'},\n",
       "  {'name': 'feat_62', 'type': 'number'},\n",
       "  {'name': 'feat_63', 'type': 'number'},\n",
       "  {'name': 'feat_64', 'type': 'number'},\n",
       "  {'name': 'bankrupt', 'type': 'boolean'}],\n",
       " 'primaryKey': ['company_id'],\n",
       " 'pandas_version': '0.20.0'}"
      ]
     },
     "execution_count": 21,
     "metadata": {},
     "output_type": "execute_result"
    }
   ],
   "source": [
    "# print schema \n",
    "poland_data['schema']"
   ]
  },
  {
   "cell_type": "code",
   "execution_count": 22,
   "metadata": {},
   "outputs": [
    {
     "data": {
      "text/plain": [
       "{'company_id': 1,\n",
       " 'feat_1': 0.17419,\n",
       " 'feat_2': 0.41299,\n",
       " 'feat_3': 0.14371,\n",
       " 'feat_4': 1.348,\n",
       " 'feat_5': -28.982,\n",
       " 'feat_6': 0.60383,\n",
       " 'feat_7': 0.21946,\n",
       " 'feat_8': 1.1225,\n",
       " 'feat_9': 1.1961,\n",
       " 'feat_10': 0.46359,\n",
       " 'feat_11': 0.21946,\n",
       " 'feat_12': 0.53139,\n",
       " 'feat_13': 0.14233,\n",
       " 'feat_14': 0.21946,\n",
       " 'feat_15': 592.24,\n",
       " 'feat_16': 0.6163,\n",
       " 'feat_17': 2.4213,\n",
       " 'feat_18': 0.21946,\n",
       " 'feat_19': 0.12272,\n",
       " 'feat_20': 37.573,\n",
       " 'feat_21': 0.9969,\n",
       " 'feat_22': 0.2951,\n",
       " 'feat_23': 0.097402,\n",
       " 'feat_24': 0.75641,\n",
       " 'feat_25': 0.46359,\n",
       " 'feat_26': 0.50669,\n",
       " 'feat_27': 1.9737,\n",
       " 'feat_28': 0.32417,\n",
       " 'feat_29': 5.9473,\n",
       " 'feat_30': 0.22493,\n",
       " 'feat_31': 0.12272,\n",
       " 'feat_32': 100.82,\n",
       " 'feat_33': 3.6203,\n",
       " 'feat_34': 0.71453,\n",
       " 'feat_35': 0.2951,\n",
       " 'feat_36': 1.8079,\n",
       " 'feat_37': 123140.0,\n",
       " 'feat_38': 0.46359,\n",
       " 'feat_39': 0.16501,\n",
       " 'feat_40': 0.21282,\n",
       " 'feat_41': 0.041124,\n",
       " 'feat_42': 0.16501,\n",
       " 'feat_43': 95.682,\n",
       " 'feat_44': 58.109,\n",
       " 'feat_45': 0.94621,\n",
       " 'feat_46': 0.90221,\n",
       " 'feat_47': 44.941,\n",
       " 'feat_48': 0.26003,\n",
       " 'feat_49': 0.1454,\n",
       " 'feat_50': 1.348,\n",
       " 'feat_51': 0.41299,\n",
       " 'feat_52': 0.27622,\n",
       " 'feat_53': 1.0457,\n",
       " 'feat_54': 1.0458,\n",
       " 'feat_55': 127280.0,\n",
       " 'feat_56': 0.16396,\n",
       " 'feat_57': 0.37574,\n",
       " 'feat_58': 0.83604,\n",
       " 'feat_59': 6.5269e-06,\n",
       " 'feat_60': 9.7145,\n",
       " 'feat_61': 6.2813,\n",
       " 'feat_62': 84.291,\n",
       " 'feat_63': 4.3303,\n",
       " 'feat_64': 4.0341,\n",
       " 'bankrupt': False}"
      ]
     },
     "execution_count": 22,
     "metadata": {},
     "output_type": "execute_result"
    }
   ],
   "source": [
    "# get financial data of the first company\n",
    "poland_data['data'][0]"
   ]
  },
  {
   "cell_type": "code",
   "execution_count": 26,
   "metadata": {},
   "outputs": [
    {
     "name": "stdout",
     "output_type": "stream",
     "text": [
      "There are 9977 companies in the dataset\n"
     ]
    }
   ],
   "source": [
    "# calculate number of companies\n",
    "print(f\"There are {len(poland_data['data'])} companies in the dataset\")"
   ]
  },
  {
   "cell_type": "code",
   "execution_count": 28,
   "metadata": {},
   "outputs": [
    {
     "name": "stdout",
     "output_type": "stream",
     "text": [
      "Each company has 66 attributes\n"
     ]
    }
   ],
   "source": [
    "# calculate number of features\n",
    "print(f\"Each company has {len(poland_data['data'][0])} attributes\")"
   ]
  },
  {
   "cell_type": "code",
   "execution_count": null,
   "metadata": {},
   "outputs": [],
   "source": []
  }
 ],
 "metadata": {
  "kernelspec": {
   "display_name": "PyPractice",
   "language": "python",
   "name": "python3"
  },
  "language_info": {
   "codemirror_mode": {
    "name": "ipython",
    "version": 3
   },
   "file_extension": ".py",
   "mimetype": "text/x-python",
   "name": "python",
   "nbconvert_exporter": "python",
   "pygments_lexer": "ipython3",
   "version": "3.8.0"
  },
  "orig_nbformat": 4
 },
 "nbformat": 4,
 "nbformat_minor": 2
}
